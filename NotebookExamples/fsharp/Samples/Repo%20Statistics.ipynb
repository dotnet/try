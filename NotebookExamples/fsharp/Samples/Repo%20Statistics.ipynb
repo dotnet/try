{
 "cells": [
  {
   "cell_type": "code",
   "execution_count": 1,
   "metadata": {},
   "outputs": [
    {
     "name": "stdout",
     "output_type": "stream",
     "text": [
      "yielding source C:\\Users\\kevinr\\AppData\\Local\\Temp\\nuget\\32788\\Project.fsproj.fsx\n"
     ]
    }
   ],
   "source": [
    "#r \"nuget:Octokit, 0.32.0\"\n",
    "#r \"nuget:NodaTime, 2.4.6\"\n",
    "\n",
    "open Octokit\n",
    "open NodaTime\n",
    "open NodaTime.Extensions\n",
    "open XPlot.Plotly"
   ]
  },
  {
   "cell_type": "code",
   "execution_count": 3,
   "metadata": {},
   "outputs": [],
   "source": [
    "let organization = \"dotnet\"\n",
    "let repositoryName = \"try\"\n",
    "let options = ApiOptions()\n",
    "let gitHubClient = GitHubClient(ProductHeaderValue(\"notebook\"))"
   ]
  },
  {
   "cell_type": "code",
   "execution_count": 4,
   "metadata": {},
   "outputs": [],
   "source": [
    "//let tokenAuth <- Credentials(\"YOUR TOKEN\")\n",
    "//gitHubClient.Credentials <- tokenAuth"
   ]
  },
  {
   "cell_type": "code",
   "execution_count": 6,
   "metadata": {},
   "outputs": [],
   "source": [
    "let today = SystemClock.Instance.InUtc().GetCurrentDate()\n",
    "let startOfTheMonth = today.With(DateAdjusters.StartOfMonth)\n",
    "let startOfTheYear = LocalDate(today.Year, 1, 1).AtMidnight()"
   ]
  },
  {
   "cell_type": "code",
   "execution_count": null,
   "metadata": {},
   "outputs": [],
   "source": []
  }
 ],
 "metadata": {
  "kernelspec": {
   "display_name": ".NET (F#)",
   "language": "F#",
   "name": ".net-fsharp"
  },
  "language_info": {
   "file_extension": ".fs",
   "mimetype": "text/x-fsharp",
   "name": "C#",
   "pygments_lexer": "fsharp",
   "version": "4.5"
  }
 },
 "nbformat": 4,
 "nbformat_minor": 4
}
