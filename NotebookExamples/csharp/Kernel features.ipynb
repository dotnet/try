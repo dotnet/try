{
 "cells": [
  {
   "cell_type": "markdown",
   "metadata": {},
   "source": [
    "# First steps"
   ]
  },
  {
   "cell_type": "markdown",
   "metadata": {},
   "source": [
    "Expressions will evalaute and print the result"
   ]
  },
  {
   "cell_type": "code",
   "execution_count": 1,
   "metadata": {},
   "outputs": [
    {
     "data": {
      "text/plain": [
       "4"
      ]
     },
     "execution_count": 1,
     "metadata": {},
     "output_type": "execute_result"
    }
   ],
   "source": [
    "1 + 3"
   ]
  },
  {
   "cell_type": "markdown",
   "metadata": {},
   "source": [
    "```Console.Write``` and ```Console.WriteLine``` will also display output"
   ]
  },
  {
   "cell_type": "code",
   "execution_count": 2,
   "metadata": {},
   "outputs": [
    {
     "data": {
      "text/plain": [
       "hello\r\n"
      ]
     },
     "metadata": {},
     "output_type": "display_data"
    },
    {
     "data": {
      "text/plain": [
       "world\r\n"
      ]
     },
     "metadata": {},
     "output_type": "display_data"
    }
   ],
   "source": [
    "Console.WriteLine(\"hello\");\n",
    "Console.WriteLine(\"world\");"
   ]
  },
  {
   "cell_type": "markdown",
   "metadata": {},
   "source": [
    "To display output use the ```display``` api, that uses advanced formatting to print to screen"
   ]
  },
  {
   "cell_type": "code",
   "execution_count": 3,
   "metadata": {},
   "outputs": [
    {
     "data": {
      "text/html": [
       "hello world"
      ]
     },
     "metadata": {},
     "output_type": "display_data"
    }
   ],
   "source": [
    "display(\"hello world\");"
   ]
  },
  {
   "cell_type": "markdown",
   "metadata": {},
   "source": [
    "try it with collections "
   ]
  },
  {
   "cell_type": "code",
   "execution_count": 4,
   "metadata": {},
   "outputs": [
    {
     "data": {
      "text/html": [
       "<table><thead><tr><th><i>index</i></th><th>value</th></tr></thead><tbody><tr><td>0</td><td>hello</td></tr><tr><td>1</td><td>world</td></tr></tbody></table>"
      ]
     },
     "metadata": {},
     "output_type": "display_data"
    }
   ],
   "source": [
    "display(new []{\"hello\", \"world\"});"
   ]
  },
  {
   "cell_type": "markdown",
   "metadata": {},
   "source": [
    "classes will be printed as table"
   ]
  },
  {
   "cell_type": "code",
   "execution_count": 5,
   "metadata": {},
   "outputs": [
    {
     "data": {
      "text/html": [
       "<table><thead><tr><th>Name</th><th>Surname</th><th>Age</th></tr></thead><tbody><tr><td>Mitch</td><td>Buchannon</td><td>42</td></tr></tbody></table>"
      ]
     },
     "metadata": {},
     "output_type": "display_data"
    }
   ],
   "source": [
    "class Person {\n",
    " public string Name {get;set;}\n",
    " public string Surname {get;set;}\n",
    " public int Age {get;set;}\n",
    "}\n",
    "\n",
    "display(new Person{ Name = \"Mitch\", Surname = \"Buchannon\", Age = 42});"
   ]
  },
  {
   "cell_type": "markdown",
   "metadata": {},
   "source": [
    "and so will be object collections"
   ]
  },
  {
   "cell_type": "code",
   "execution_count": 6,
   "metadata": {},
   "outputs": [
    {
     "data": {
      "text/html": [
       "<table><thead><tr><th><i>index</i></th><th>Name</th><th>Surname</th><th>Age</th></tr></thead><tbody><tr><td>0</td><td>Mitch</td><td>Buchannon</td><td>42</td></tr><tr><td>1</td><td>Hobie </td><td>Buchannon</td><td>23</td></tr><tr><td>2</td><td>Summer</td><td>Quinn</td><td>25</td></tr><tr><td>3</td><td>C.J.</td><td>Parker</td><td>23</td></tr></tbody></table>"
      ]
     },
     "metadata": {},
     "output_type": "display_data"
    }
   ],
   "source": [
    "var groupOfPeople = new [] {\n",
    "    new Person{ Name = \"Mitch\", Surname = \"Buchannon\", Age = 42},\n",
    "    new Person{ Name = \"Hobie \", Surname = \"Buchannon\", Age = 23},\n",
    "    new Person{ Name = \"Summer\", Surname = \"Quinn\", Age = 25},\n",
    "    new Person{ Name = \"C.J.\", Surname = \"Parker\", Age = 23},\n",
    "};\n",
    "\n",
    "display(groupOfPeople);"
   ]
  },
  {
   "cell_type": "markdown",
   "metadata": {},
   "source": [
    "Note that dictionaries will have the key printed as well"
   ]
  },
  {
   "cell_type": "code",
   "execution_count": 7,
   "metadata": {},
   "outputs": [
    {
     "data": {
      "text/html": [
       "<table><thead><tr><th><i>key</i></th><th>Name</th><th>Surname</th><th>Age</th></tr></thead><tbody><tr><td>Mitch--Buchannon</td><td>Mitch</td><td>Buchannon</td><td>42</td></tr><tr><td>Hobie --Buchannon</td><td>Hobie </td><td>Buchannon</td><td>23</td></tr><tr><td>Summer--Quinn</td><td>Summer</td><td>Quinn</td><td>25</td></tr><tr><td>C.J.--Parker</td><td>C.J.</td><td>Parker</td><td>23</td></tr></tbody></table>"
      ]
     },
     "metadata": {},
     "output_type": "display_data"
    }
   ],
   "source": [
    "display(groupOfPeople.ToDictionary(p => $\"{p.Name}--{p.Surname}\"));"
   ]
  },
  {
   "cell_type": "markdown",
   "metadata": {},
   "source": [
    "# Advanced display usage"
   ]
  },
  {
   "cell_type": "markdown",
   "metadata": {},
   "source": [
    "the ```display``` function returns an object that can be used to update the output at a later time"
   ]
  },
  {
   "cell_type": "code",
   "execution_count": 8,
   "metadata": {},
   "outputs": [
    {
     "data": {
      "text/html": [
       "So i got : apple, orange, coconut, pear, peach"
      ]
     },
     "metadata": {},
     "output_type": "display_data"
    }
   ],
   "source": [
    "var fruitOutput = display(\"let's get some fruit!\");\n",
    "var basket = new [] {\"apple\", \"orange\", \"coconut\", \"pear\", \"peach\"};\n",
    "foreach (var fruit in basket){\n",
    "    System.Threading.Thread.Sleep(1000);\n",
    "    fruitOutput.Update($\"And I have {fruit}\");    \n",
    "}\n",
    "System.Threading.Thread.Sleep(1000);\n",
    "fruitOutput.Update($\"So i got : {string.Join(\", \", basket)}\");"
   ]
  },
  {
   "cell_type": "markdown",
   "metadata": {},
   "source": [
    "There is a dom api that can be used to emit html for reach display"
   ]
  },
  {
   "cell_type": "code",
   "execution_count": 9,
   "metadata": {},
   "outputs": [
    {
     "data": {
      "text/html": [
       "<div><span><a href=\"https://en.wikipedia.org/wiki/Mitch_Buchannon\"><b>Mitch</b></a><i>42</i></span></div>"
      ]
     },
     "metadata": {},
     "output_type": "display_data"
    }
   ],
   "source": [
    "var mitch = groupOfPeople.First(p => p.Name == \"Mitch\");\n",
    "display(div(span(a[href: @\"https://en.wikipedia.org/wiki/Mitch_Buchannon\"](b(mitch.Name)),i(mitch.Age))));"
   ]
  },
  {
   "cell_type": "markdown",
   "metadata": {},
   "source": [
    "Now we can use the dom api and ```Formatter``` class to define a custom formatter we want to bind to the Person type"
   ]
  },
  {
   "cell_type": "code",
   "execution_count": 10,
   "metadata": {},
   "outputs": [
    {
     "data": {
      "text/html": [
       "<div><span><b>Mitch</b><i>42</i></span></div>"
      ]
     },
     "metadata": {},
     "output_type": "display_data"
    }
   ],
   "source": [
    "Formatter<Person>.Register( (person, writer ) => {\n",
    "    writer.Write(div(span(b(person.Name),i(person.Age))));\n",
    "}, \"text/html\");\n",
    "\n",
    "display(mitch);"
   ]
  },
  {
   "cell_type": "markdown",
   "metadata": {},
   "source": [
    "The ```Register``` method asks for an function that will accept an instance of the type registered and a writer where we will emit the formatted value. Note the second parameter required by the ```Register``` api is a string that idenfities the mimetype of the formatted output. In jupypter client ```\"text/plain\"``` and ```\"text/html\"``` are natively supported"
   ]
  },
  {
   "cell_type": "markdown",
   "metadata": {},
   "source": [
    "# Using external libraries"
   ]
  },
  {
   "cell_type": "markdown",
   "metadata": {},
   "source": [
    "It is possible to load assemblies using a ```#r \"[path to dll]\"``` directive with the path to the dll to load, but is also possible to use the directive to import a nuget package.\n",
    "To load the latest version of a package just use ```#r \"nuget:[package name]```, to lock the notebook on a specific version then use ```#r \"nuget:[package name], 1.2.3```.\n",
    "\n",
    "Let's use all we have seen so far then!"
   ]
  },
  {
   "cell_type": "markdown",
   "metadata": {},
   "source": [
    "Load ```System.Reacive.Linq``` at version 4.1.5 and import namespaces"
   ]
  },
  {
   "cell_type": "code",
   "execution_count": 11,
   "metadata": {},
   "outputs": [],
   "source": [
    "#r \"nuget:System.Reactive.Linq, 4.1.5\"\n",
    "\n",
    "using System.Reactive;\n",
    "using System.Reactive.Linq;\n",
    "using System.Reactive.Concurrency;"
   ]
  },
  {
   "cell_type": "code",
   "execution_count": 12,
   "metadata": {},
   "outputs": [
    {
     "data": {
      "text/html": [
       "<div><span><b>C.J.</b><i>23</i></span></div>"
      ]
     },
     "metadata": {},
     "output_type": "display_data"
    }
   ],
   "source": [
    "var peopleDisplay = display(new Person{Name = \"N/A\", Surname = \"N/A\", Age = 0});\n",
    "\n",
    "var sub = Observable\n",
    "    .Interval(TimeSpan.FromSeconds(3),CurrentThreadScheduler.Instance)    \n",
    "    .Take(groupOfPeople.Length)\n",
    "    .Select(i => groupOfPeople[i])    \n",
    "    .Subscribe(person => peopleDisplay.Update(person));"
   ]
  },
  {
   "cell_type": "code",
   "execution_count": null,
   "metadata": {},
   "outputs": [],
   "source": []
  }
 ],
 "metadata": {
  "kernelspec": {
   "display_name": ".NET (C#)",
   "language": "C#",
   "name": ".net-csharp"
  },
  "language_info": {
   "file_extension": ".cs",
   "mimetype": "text/x-csharp",
   "name": "C#",
   "pygments_lexer": "csharp",
   "version": "7.3"
  }
 },
 "nbformat": 4,
 "nbformat_minor": 2
}
