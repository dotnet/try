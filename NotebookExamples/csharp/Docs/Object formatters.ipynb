{
 "cells": [
  {
   "cell_type": "markdown",
   "metadata": {},
   "source": [
    "# Object formatters"
   ]
  },
  {
   "cell_type": "markdown",
   "metadata": {},
   "source": [
    "The rendering support defines default formatting for most cases. Collection for example are formatted as html tables"
   ]
  },
  {
   "cell_type": "code",
   "execution_count": 7,
   "metadata": {},
   "outputs": [
    {
     "data": {
      "text/html": [
       "<table><thead><tr><th><i>index</i></th><th>value</th></tr></thead><tbody><tr><td>0</td><td>hello</td></tr><tr><td>1</td><td>world</td></tr></tbody></table>"
      ]
     },
     "metadata": {},
     "output_type": "display_data"
    }
   ],
   "source": [
    "display(new []{\"hello\", \"world\"});"
   ]
  },
  {
   "cell_type": "markdown",
   "metadata": {},
   "source": [
    "Structured object are also formatted as html table with a column for each property of field"
   ]
  },
  {
   "cell_type": "code",
   "execution_count": 8,
   "metadata": {},
   "outputs": [
    {
     "data": {
      "text/html": [
       "<table><thead><tr><th>Name</th><th>Surname</th><th>Age</th></tr></thead><tbody><tr><td>Mitch</td><td>Buchannon</td><td>42</td></tr></tbody></table>"
      ]
     },
     "metadata": {},
     "output_type": "display_data"
    }
   ],
   "source": [
    "class Person {\n",
    " public string Name {get;set;}\n",
    " public string Surname {get;set;}\n",
    " public int Age {get;set;}\n",
    "}\n",
    "\n",
    "display(new Person{ Name = \"Mitch\", Surname = \"Buchannon\", Age = 42});"
   ]
  },
  {
   "cell_type": "markdown",
   "metadata": {},
   "source": [
    "Colelction of objects are formatted as table with an additional index column to show the position in the colelction"
   ]
  },
  {
   "cell_type": "code",
   "execution_count": 9,
   "metadata": {},
   "outputs": [
    {
     "data": {
      "text/html": [
       "<table><thead><tr><th><i>index</i></th><th>Name</th><th>Surname</th><th>Age</th></tr></thead><tbody><tr><td>0</td><td>Mitch</td><td>Buchannon</td><td>42</td></tr><tr><td>1</td><td>Hobie </td><td>Buchannon</td><td>23</td></tr><tr><td>2</td><td>Summer</td><td>Quinn</td><td>25</td></tr><tr><td>3</td><td>C.J.</td><td>Parker</td><td>23</td></tr></tbody></table>"
      ]
     },
     "metadata": {},
     "output_type": "display_data"
    }
   ],
   "source": [
    "var groupOfPeople = new [] {\n",
    "    new Person{ Name = \"Mitch\", Surname = \"Buchannon\", Age = 42},\n",
    "    new Person{ Name = \"Hobie \", Surname = \"Buchannon\", Age = 23},\n",
    "    new Person{ Name = \"Summer\", Surname = \"Quinn\", Age = 25},\n",
    "    new Person{ Name = \"C.J.\", Surname = \"Parker\", Age = 23},\n",
    "};\n",
    "\n",
    "display(groupOfPeople);"
   ]
  },
  {
   "cell_type": "markdown",
   "metadata": {},
   "source": [
    "Default formatting for a dictionary repalces the index column with the key"
   ]
  },
  {
   "cell_type": "code",
   "execution_count": 10,
   "metadata": {},
   "outputs": [
    {
     "data": {
      "text/html": [
       "<table><thead><tr><th><i>key</i></th><th>Name</th><th>Surname</th><th>Age</th></tr></thead><tbody><tr><td>Mitch--Buchannon</td><td>Mitch</td><td>Buchannon</td><td>42</td></tr><tr><td>Hobie --Buchannon</td><td>Hobie </td><td>Buchannon</td><td>23</td></tr><tr><td>Summer--Quinn</td><td>Summer</td><td>Quinn</td><td>25</td></tr><tr><td>C.J.--Parker</td><td>C.J.</td><td>Parker</td><td>23</td></tr></tbody></table>"
      ]
     },
     "metadata": {},
     "output_type": "display_data"
    }
   ],
   "source": [
    "display(groupOfPeople.ToDictionary(p => $\"{p.Name}--{p.Surname}\"));"
   ]
  },
  {
   "cell_type": "markdown",
   "metadata": {},
   "source": [
    "Now we can use the ```PocketView``` APIs and ```Formatter``` class to define a custom formatter we want to bind to the Person type"
   ]
  },
  {
   "cell_type": "code",
   "execution_count": 13,
   "metadata": {},
   "outputs": [
    {
     "data": {
      "text/html": [
       "<div><span><b>Mitch</b> is <i>42</i> years old</span></div>"
      ]
     },
     "metadata": {},
     "output_type": "display_data"
    }
   ],
   "source": [
    "var mitch = groupOfPeople.First(p => p.Name == \"Mitch\");\n",
    "Formatter<Person>.Register( (person, writer ) => {\n",
    "    writer.Write(div(span(b(person.Name),\" is \", i(person.Age), \" years old\")));\n",
    "}, \"text/html\");\n",
    "\n",
    "display(mitch);"
   ]
  },
  {
   "cell_type": "markdown",
   "metadata": {},
   "source": [
    "The ```Register``` method asks for an function that will accept an instance of the type registered and a writer. The writer is used to emit the formatted value. Note the second parameter required by the ```Register``` api is a string that idenfities the mimetype of the formatted output. In jupypter client ```\"text/plain\"``` and ```\"text/html\"``` are natively supported"
   ]
  },
  {
   "cell_type": "markdown",
   "metadata": {},
   "source": [
    "---\n",
    "**_See also_**\n",
    "* [Output](Output.ipynb)\n",
    "* [HTML](HTML.ipynb)"
   ]
  }
 ],
 "metadata": {
  "kernelspec": {
   "display_name": ".NET (C#)",
   "language": "C#",
   "name": ".net-csharp"
  },
  "language_info": {
   "file_extension": ".cs",
   "mimetype": "text/x-csharp",
   "name": "C#",
   "pygments_lexer": "csharp",
   "version": "8.0"
  }
 },
 "nbformat": 4,
 "nbformat_minor": 2
}
