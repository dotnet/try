{
 "cells": [
  {
   "cell_type": "markdown",
   "metadata": {},
   "source": [
    "# Object formatters"
   ]
  },
  {
   "cell_type": "markdown",
   "metadata": {},
   "source": [
    "## Default formatting behaviors"
   ]
  },
  {
   "cell_type": "markdown",
   "metadata": {},
   "source": [
    "When you return a value or a display a value in a .NET notebook, the default formatting behavior is to try to provide some useful information about the object. If it's an array or other type implementing `IEnumerable`, that might look like this:"
   ]
  },
  {
   "cell_type": "code",
   "execution_count": 1,
   "metadata": {},
   "outputs": [
    {
     "data": {
      "text/html": [
       "<table><thead><tr><th><i>index</i></th><th>value</th></tr></thead><tbody><tr><td>0</td><td>hello</td></tr><tr><td>1</td><td>world</td></tr></tbody></table>"
      ]
     },
     "metadata": {},
     "output_type": "display_data"
    },
    {
     "data": {
      "text/html": [
       "<table><thead><tr><th><i>index</i></th><th>value</th></tr></thead><tbody><tr><td>0</td><td>1</td></tr><tr><td>1</td><td>2</td></tr><tr><td>2</td><td>3</td></tr><tr><td>3</td><td>4</td></tr><tr><td>4</td><td>5</td></tr></tbody></table>"
      ]
     },
     "execution_count": 1,
     "metadata": {},
     "output_type": "execute_result"
    }
   ],
   "source": [
    "display(new [] {\"hello\", \"world\"} );\n",
    "\n",
    "Enumerable.Range(1, 5)"
   ]
  },
  {
   "cell_type": "markdown",
   "metadata": {},
   "source": [
    "As you can see, the same basic structure is used whether you pass the object to the `display` method or return it as the cell's value.\n",
    "\n",
    "Similarly to the behavior for `IEnumerable` objects, you'll also see table output for dictionaries, but for each value in the dictionary, the key is provided rather than the index within the collection."
   ]
  },
  {
   "cell_type": "code",
   "execution_count": 2,
   "metadata": {},
   "outputs": [
    {
     "data": {
      "text/html": [
       "<table><thead><tr><th><i>key</i></th><th>value</th></tr></thead><tbody><tr><td>zero</td><td>0</td></tr><tr><td>one</td><td>1</td></tr><tr><td>two</td><td>2</td></tr></tbody></table>"
      ]
     },
     "execution_count": 2,
     "metadata": {},
     "output_type": "execute_result"
    }
   ],
   "source": [
    "var dictionary = new Dictionary<string, int>\n",
    "{\n",
    "  [\"zero\"] = 0,\n",
    "  [\"one\"] = 1,\n",
    "  [\"two\"] = 2\n",
    "};\n",
    "dictionary"
   ]
  },
  {
   "cell_type": "markdown",
   "metadata": {},
   "source": [
    "The default formatting behavior for other types of objects is to produce a table showing their properties and the values of those properties."
   ]
  },
  {
   "cell_type": "code",
   "execution_count": 3,
   "metadata": {},
   "outputs": [
    {
     "data": {
      "text/html": [
       "<table><thead><tr><th>FirstName</th><th>LastName</th><th>Age</th></tr></thead><tbody><tr><td>Mitch</td><td>Buchannon</td><td>42</td></tr></tbody></table>"
      ]
     },
     "metadata": {},
     "output_type": "display_data"
    }
   ],
   "source": [
    "class Person \n",
    "{\n",
    "    public string FirstName { get; set; }\n",
    "    public string LastName { get; set; }\n",
    "    public int Age { get; set; } \n",
    "}\n",
    "\n",
    "display(new Person { FirstName = \"Mitch\", LastName = \"Buchannon\", Age = 42} );"
   ]
  },
  {
   "cell_type": "markdown",
   "metadata": {},
   "source": [
    "When you have a collection of such objects, you can see the values listed for each item in the collection:"
   ]
  },
  {
   "cell_type": "code",
   "execution_count": 4,
   "metadata": {},
   "outputs": [
    {
     "data": {
      "text/html": [
       "<table><thead><tr><th><i>index</i></th><th>FirstName</th><th>LastName</th><th>Age</th></tr></thead><tbody><tr><td>0</td><td>Mitch</td><td>Buchannon</td><td>42</td></tr><tr><td>1</td><td>Hobie </td><td>Buchannon</td><td>23</td></tr><tr><td>2</td><td>Summer</td><td>Quinn</td><td>25</td></tr><tr><td>3</td><td>C.J.</td><td>Parker</td><td>23</td></tr></tbody></table>"
      ]
     },
     "metadata": {},
     "output_type": "display_data"
    }
   ],
   "source": [
    "var groupOfPeople = new [] \n",
    "{\n",
    "    new Person { FirstName = \"Mitch\", LastName = \"Buchannon\", Age = 42 },\n",
    "    new Person { FirstName = \"Hobie \", LastName = \"Buchannon\", Age = 23 },\n",
    "    new Person { FirstName = \"Summer\", LastName = \"Quinn\", Age = 25 },\n",
    "    new Person { FirstName = \"C.J.\", LastName = \"Parker\", Age = 23 },\n",
    "};\n",
    "\n",
    "display(groupOfPeople);"
   ]
  },
  {
   "cell_type": "markdown",
   "metadata": {},
   "source": [
    "Again, displaying the dictionary will show the items by key rather than index."
   ]
  },
  {
   "cell_type": "code",
   "execution_count": 5,
   "metadata": {},
   "outputs": [
    {
     "data": {
      "text/html": [
       "<table><thead><tr><th><i>key</i></th><th>FirstName</th><th>LastName</th><th>Age</th></tr></thead><tbody><tr><td>Mitch</td><td>Mitch</td><td>Buchannon</td><td>42</td></tr><tr><td>Hobie </td><td>Hobie </td><td>Buchannon</td><td>23</td></tr><tr><td>Summer</td><td>Summer</td><td>Quinn</td><td>25</td></tr><tr><td>C.J.</td><td>C.J.</td><td>Parker</td><td>23</td></tr></tbody></table>"
      ]
     },
     "metadata": {},
     "output_type": "display_data"
    }
   ],
   "source": [
    "display(groupOfPeople.ToDictionary(p => $\"{p.FirstName}\"));"
   ]
  },
  {
   "cell_type": "markdown",
   "metadata": {},
   "source": [
    "Now let's try something a bit more complex. Let's look at a graph of objects. \n",
    "\n",
    "We'll redefine the `Person` class to allow a reference to a collection of other `Person` instances."
   ]
  },
  {
   "cell_type": "code",
   "execution_count": 6,
   "metadata": {},
   "outputs": [
    {
     "data": {
      "text/html": [
       "<table><thead><tr><th><i>index</i></th><th>FirstName</th><th>LastName</th><th>Age</th><th>Friends</th></tr></thead><tbody><tr><td>0</td><td>Mitch</td><td>Buchannon</td><td>42</td><td>{ Submission#7+Person: FirstName: Hobie , LastName: Buchannon, Age: 23, Friends: [ { Submission#7+Person: FirstName: Mitch, LastName: Buchannon, Age: 42, Friends: [ { Submission#7+Person: FirstName: Hobie , LastName: Buchannon, Age: 23, Friends: [ Submission#7+Person, Submission#7+Person, Submission#7+Person ] }, { Submission#7+Person: FirstName: Summer, LastName: Quinn, Age: 25, Friends: [ Submission#7+Person, Submission#7+Person, Submission#7+Person ] }, { Submission#7+Person: FirstName: C.J., LastName: Parker, Age: 23, Friends: [ Submission#7+Person, Submission#7+Person, Submission#7+Person ] } ] }, { Submission#7+Person: FirstName: Summer, LastName: Quinn, Age: 25, Friends: [ { Submission#7+Person: FirstName: Mitch, LastName: Buchannon, Age: 42, Friends: [ Submission#7+Person, Submission#7+Person, Submission#7+Person ] }, { Submission#7+Person: FirstName: Hobie , LastName: Buchannon, Age: 23, Friends: [ Submission#7+Person, Submission#7+Person, Submission#7+Person ] }, { Submission#7+Person: FirstName: C.J., LastName: Parker, Age: 23, Friends: [ Submission#7+Person, Submission#7+Person, Submission#7+Person ] } ] }, { Submission#7+Person: FirstName: C.J., LastName: Parker, Age: 23, Friends: [ { Submission#7+Person: FirstName: Mitch, LastName: Buchannon, Age: 42, Friends: [ Submission#7+Person, Submission#7+Person, Submission#7+Person ] }, { Submission#7+Person: FirstName: Hobie , LastName: Buchannon, Age: 23, Friends: [ Submission#7+Person, Submission#7+Person, Submission#7+Person ] }, { Submission#7+Person: FirstName: Summer, LastName: Quinn, Age: 25, Friends: [ Submission#7+Person, Submission#7+Person, Submission#7+Person ] } ] } ] }{ Submission#7+Person: FirstName: Summer, LastName: Quinn, Age: 25, Friends: [ { Submission#7+Person: FirstName: Mitch, LastName: Buchannon, Age: 42, Friends: [ { Submission#7+Person: FirstName: Hobie , LastName: Buchannon, Age: 23, Friends: [ Submission#7+Person, Submission#7+Person, Submission#7+Person ] }, { Submission#7+Person: FirstName: Summer, LastName: Quinn, Age: 25, Friends: [ Submission#7+Person, Submission#7+Person, Submission#7+Person ] }, { Submission#7+Person: FirstName: C.J., LastName: Parker, Age: 23, Friends: [ Submission#7+Person, Submission#7+Person, Submission#7+Person ] } ] }, { Submission#7+Person: FirstName: Hobie , LastName: Buchannon, Age: 23, Friends: [ { Submission#7+Person: FirstName: Mitch, LastName: Buchannon, Age: 42, Friends: [ Submission#7+Person, Submission#7+Person, Submission#7+Person ] }, { Submission#7+Person: FirstName: Summer, LastName: Quinn, Age: 25, Friends: [ Submission#7+Person, Submission#7+Person, Submission#7+Person ] }, { Submission#7+Person: FirstName: C.J., LastName: Parker, Age: 23, Friends: [ Submission#7+Person, Submission#7+Person, Submission#7+Person ] } ] }, { Submission#7+Person: FirstName: C.J., LastName: Parker, Age: 23, Friends: [ { Submission#7+Person: FirstName: Mitch, LastName: Buchannon, Age: 42, Friends: [ Submission#7+Person, Submission#7+Person, Submission#7+Person ] }, { Submission#7+Person: FirstName: Hobie , LastName: Buchannon, Age: 23, Friends: [ Submission#7+Person, Submission#7+Person, Submission#7+Person ] }, { Submission#7+Person: FirstName: Summer, LastName: Quinn, Age: 25, Friends: [ Submission#7+Person, Submission#7+Person, Submission#7+Person ] } ] } ] }{ Submission#7+Person: FirstName: C.J., LastName: Parker, Age: 23, Friends: [ { Submission#7+Person: FirstName: Mitch, LastName: Buchannon, Age: 42, Friends: [ { Submission#7+Person: FirstName: Hobie , LastName: Buchannon, Age: 23, Friends: [ Submission#7+Person, Submission#7+Person, Submission#7+Person ] }, { Submission#7+Person: FirstName: Summer, LastName: Quinn, Age: 25, Friends: [ Submission#7+Person, Submission#7+Person, Submission#7+Person ] }, { Submission#7+Person: FirstName: C.J., LastName: Parker, Age: 23, Friends: [ Submission#7+Person, Submission#7+Person, Submission#7+Person ] } ] }, { Submission#7+Person: FirstName: Hobie , LastName: Buchannon, Age: 23, Friends: [ { Submission#7+Person: FirstName: Mitch, LastName: Buchannon, Age: 42, Friends: [ Submission#7+Person, Submission#7+Person, Submission#7+Person ] }, { Submission#7+Person: FirstName: Summer, LastName: Quinn, Age: 25, Friends: [ Submission#7+Person, Submission#7+Person, Submission#7+Person ] }, { Submission#7+Person: FirstName: C.J., LastName: Parker, Age: 23, Friends: [ Submission#7+Person, Submission#7+Person, Submission#7+Person ] } ] }, { Submission#7+Person: FirstName: Summer, LastName: Quinn, Age: 25, Friends: [ { Submission#7+Person: FirstName: Mitch, LastName: Buchannon, Age: 42, Friends: [ Submission#7+Person, Submission#7+Person, Submission#7+Person ] }, { Submission#7+Person: FirstName: Hobie , LastName: Buchannon, Age: 23, Friends: [ Submission#7+Person, Submission#7+Person, Submission#7+Person ] }, { Submission#7+Person: FirstName: C.J., LastName: Parker, Age: 23, Friends: [ Submission#7+Person, Submission#7+Person, Submission#7+Person ] } ] } ] }</td></tr><tr><td>1</td><td>Hobie </td><td>Buchannon</td><td>23</td><td>{ Submission#7+Person: FirstName: Mitch, LastName: Buchannon, Age: 42, Friends: [ { Submission#7+Person: FirstName: Hobie , LastName: Buchannon, Age: 23, Friends: [ { Submission#7+Person: FirstName: Mitch, LastName: Buchannon, Age: 42, Friends: [ Submission#7+Person, Submission#7+Person, Submission#7+Person ] }, { Submission#7+Person: FirstName: Summer, LastName: Quinn, Age: 25, Friends: [ Submission#7+Person, Submission#7+Person, Submission#7+Person ] }, { Submission#7+Person: FirstName: C.J., LastName: Parker, Age: 23, Friends: [ Submission#7+Person, Submission#7+Person, Submission#7+Person ] } ] }, { Submission#7+Person: FirstName: Summer, LastName: Quinn, Age: 25, Friends: [ { Submission#7+Person: FirstName: Mitch, LastName: Buchannon, Age: 42, Friends: [ Submission#7+Person, Submission#7+Person, Submission#7+Person ] }, { Submission#7+Person: FirstName: Hobie , LastName: Buchannon, Age: 23, Friends: [ Submission#7+Person, Submission#7+Person, Submission#7+Person ] }, { Submission#7+Person: FirstName: C.J., LastName: Parker, Age: 23, Friends: [ Submission#7+Person, Submission#7+Person, Submission#7+Person ] } ] }, { Submission#7+Person: FirstName: C.J., LastName: Parker, Age: 23, Friends: [ { Submission#7+Person: FirstName: Mitch, LastName: Buchannon, Age: 42, Friends: [ Submission#7+Person, Submission#7+Person, Submission#7+Person ] }, { Submission#7+Person: FirstName: Hobie , LastName: Buchannon, Age: 23, Friends: [ Submission#7+Person, Submission#7+Person, Submission#7+Person ] }, { Submission#7+Person: FirstName: Summer, LastName: Quinn, Age: 25, Friends: [ Submission#7+Person, Submission#7+Person, Submission#7+Person ] } ] } ] }{ Submission#7+Person: FirstName: Summer, LastName: Quinn, Age: 25, Friends: [ { Submission#7+Person: FirstName: Mitch, LastName: Buchannon, Age: 42, Friends: [ { Submission#7+Person: FirstName: Hobie , LastName: Buchannon, Age: 23, Friends: [ Submission#7+Person, Submission#7+Person, Submission#7+Person ] }, { Submission#7+Person: FirstName: Summer, LastName: Quinn, Age: 25, Friends: [ Submission#7+Person, Submission#7+Person, Submission#7+Person ] }, { Submission#7+Person: FirstName: C.J., LastName: Parker, Age: 23, Friends: [ Submission#7+Person, Submission#7+Person, Submission#7+Person ] } ] }, { Submission#7+Person: FirstName: Hobie , LastName: Buchannon, Age: 23, Friends: [ { Submission#7+Person: FirstName: Mitch, LastName: Buchannon, Age: 42, Friends: [ Submission#7+Person, Submission#7+Person, Submission#7+Person ] }, { Submission#7+Person: FirstName: Summer, LastName: Quinn, Age: 25, Friends: [ Submission#7+Person, Submission#7+Person, Submission#7+Person ] }, { Submission#7+Person: FirstName: C.J., LastName: Parker, Age: 23, Friends: [ Submission#7+Person, Submission#7+Person, Submission#7+Person ] } ] }, { Submission#7+Person: FirstName: C.J., LastName: Parker, Age: 23, Friends: [ { Submission#7+Person: FirstName: Mitch, LastName: Buchannon, Age: 42, Friends: [ Submission#7+Person, Submission#7+Person, Submission#7+Person ] }, { Submission#7+Person: FirstName: Hobie , LastName: Buchannon, Age: 23, Friends: [ Submission#7+Person, Submission#7+Person, Submission#7+Person ] }, { Submission#7+Person: FirstName: Summer, LastName: Quinn, Age: 25, Friends: [ Submission#7+Person, Submission#7+Person, Submission#7+Person ] } ] } ] }{ Submission#7+Person: FirstName: C.J., LastName: Parker, Age: 23, Friends: [ { Submission#7+Person: FirstName: Mitch, LastName: Buchannon, Age: 42, Friends: [ { Submission#7+Person: FirstName: Hobie , LastName: Buchannon, Age: 23, Friends: [ Submission#7+Person, Submission#7+Person, Submission#7+Person ] }, { Submission#7+Person: FirstName: Summer, LastName: Quinn, Age: 25, Friends: [ Submission#7+Person, Submission#7+Person, Submission#7+Person ] }, { Submission#7+Person: FirstName: C.J., LastName: Parker, Age: 23, Friends: [ Submission#7+Person, Submission#7+Person, Submission#7+Person ] } ] }, { Submission#7+Person: FirstName: Hobie , LastName: Buchannon, Age: 23, Friends: [ { Submission#7+Person: FirstName: Mitch, LastName: Buchannon, Age: 42, Friends: [ Submission#7+Person, Submission#7+Person, Submission#7+Person ] }, { Submission#7+Person: FirstName: Summer, LastName: Quinn, Age: 25, Friends: [ Submission#7+Person, Submission#7+Person, Submission#7+Person ] }, { Submission#7+Person: FirstName: C.J., LastName: Parker, Age: 23, Friends: [ Submission#7+Person, Submission#7+Person, Submission#7+Person ] } ] }, { Submission#7+Person: FirstName: Summer, LastName: Quinn, Age: 25, Friends: [ { Submission#7+Person: FirstName: Mitch, LastName: Buchannon, Age: 42, Friends: [ Submission#7+Person, Submission#7+Person, Submission#7+Person ] }, { Submission#7+Person: FirstName: Hobie , LastName: Buchannon, Age: 23, Friends: [ Submission#7+Person, Submission#7+Person, Submission#7+Person ] }, { Submission#7+Person: FirstName: C.J., LastName: Parker, Age: 23, Friends: [ Submission#7+Person, Submission#7+Person, Submission#7+Person ] } ] } ] }</td></tr><tr><td>2</td><td>Summer</td><td>Quinn</td><td>25</td><td>{ Submission#7+Person: FirstName: Mitch, LastName: Buchannon, Age: 42, Friends: [ { Submission#7+Person: FirstName: Hobie , LastName: Buchannon, Age: 23, Friends: [ { Submission#7+Person: FirstName: Mitch, LastName: Buchannon, Age: 42, Friends: [ Submission#7+Person, Submission#7+Person, Submission#7+Person ] }, { Submission#7+Person: FirstName: Summer, LastName: Quinn, Age: 25, Friends: [ Submission#7+Person, Submission#7+Person, Submission#7+Person ] }, { Submission#7+Person: FirstName: C.J., LastName: Parker, Age: 23, Friends: [ Submission#7+Person, Submission#7+Person, Submission#7+Person ] } ] }, { Submission#7+Person: FirstName: Summer, LastName: Quinn, Age: 25, Friends: [ { Submission#7+Person: FirstName: Mitch, LastName: Buchannon, Age: 42, Friends: [ Submission#7+Person, Submission#7+Person, Submission#7+Person ] }, { Submission#7+Person: FirstName: Hobie , LastName: Buchannon, Age: 23, Friends: [ Submission#7+Person, Submission#7+Person, Submission#7+Person ] }, { Submission#7+Person: FirstName: C.J., LastName: Parker, Age: 23, Friends: [ Submission#7+Person, Submission#7+Person, Submission#7+Person ] } ] }, { Submission#7+Person: FirstName: C.J., LastName: Parker, Age: 23, Friends: [ { Submission#7+Person: FirstName: Mitch, LastName: Buchannon, Age: 42, Friends: [ Submission#7+Person, Submission#7+Person, Submission#7+Person ] }, { Submission#7+Person: FirstName: Hobie , LastName: Buchannon, Age: 23, Friends: [ Submission#7+Person, Submission#7+Person, Submission#7+Person ] }, { Submission#7+Person: FirstName: Summer, LastName: Quinn, Age: 25, Friends: [ Submission#7+Person, Submission#7+Person, Submission#7+Person ] } ] } ] }{ Submission#7+Person: FirstName: Hobie , LastName: Buchannon, Age: 23, Friends: [ { Submission#7+Person: FirstName: Mitch, LastName: Buchannon, Age: 42, Friends: [ { Submission#7+Person: FirstName: Hobie , LastName: Buchannon, Age: 23, Friends: [ Submission#7+Person, Submission#7+Person, Submission#7+Person ] }, { Submission#7+Person: FirstName: Summer, LastName: Quinn, Age: 25, Friends: [ Submission#7+Person, Submission#7+Person, Submission#7+Person ] }, { Submission#7+Person: FirstName: C.J., LastName: Parker, Age: 23, Friends: [ Submission#7+Person, Submission#7+Person, Submission#7+Person ] } ] }, { Submission#7+Person: FirstName: Summer, LastName: Quinn, Age: 25, Friends: [ { Submission#7+Person: FirstName: Mitch, LastName: Buchannon, Age: 42, Friends: [ Submission#7+Person, Submission#7+Person, Submission#7+Person ] }, { Submission#7+Person: FirstName: Hobie , LastName: Buchannon, Age: 23, Friends: [ Submission#7+Person, Submission#7+Person, Submission#7+Person ] }, { Submission#7+Person: FirstName: C.J., LastName: Parker, Age: 23, Friends: [ Submission#7+Person, Submission#7+Person, Submission#7+Person ] } ] }, { Submission#7+Person: FirstName: C.J., LastName: Parker, Age: 23, Friends: [ { Submission#7+Person: FirstName: Mitch, LastName: Buchannon, Age: 42, Friends: [ Submission#7+Person, Submission#7+Person, Submission#7+Person ] }, { Submission#7+Person: FirstName: Hobie , LastName: Buchannon, Age: 23, Friends: [ Submission#7+Person, Submission#7+Person, Submission#7+Person ] }, { Submission#7+Person: FirstName: Summer, LastName: Quinn, Age: 25, Friends: [ Submission#7+Person, Submission#7+Person, Submission#7+Person ] } ] } ] }{ Submission#7+Person: FirstName: C.J., LastName: Parker, Age: 23, Friends: [ { Submission#7+Person: FirstName: Mitch, LastName: Buchannon, Age: 42, Friends: [ { Submission#7+Person: FirstName: Hobie , LastName: Buchannon, Age: 23, Friends: [ Submission#7+Person, Submission#7+Person, Submission#7+Person ] }, { Submission#7+Person: FirstName: Summer, LastName: Quinn, Age: 25, Friends: [ Submission#7+Person, Submission#7+Person, Submission#7+Person ] }, { Submission#7+Person: FirstName: C.J., LastName: Parker, Age: 23, Friends: [ Submission#7+Person, Submission#7+Person, Submission#7+Person ] } ] }, { Submission#7+Person: FirstName: Hobie , LastName: Buchannon, Age: 23, Friends: [ { Submission#7+Person: FirstName: Mitch, LastName: Buchannon, Age: 42, Friends: [ Submission#7+Person, Submission#7+Person, Submission#7+Person ] }, { Submission#7+Person: FirstName: Summer, LastName: Quinn, Age: 25, Friends: [ Submission#7+Person, Submission#7+Person, Submission#7+Person ] }, { Submission#7+Person: FirstName: C.J., LastName: Parker, Age: 23, Friends: [ Submission#7+Person, Submission#7+Person, Submission#7+Person ] } ] }, { Submission#7+Person: FirstName: Summer, LastName: Quinn, Age: 25, Friends: [ { Submission#7+Person: FirstName: Mitch, LastName: Buchannon, Age: 42, Friends: [ Submission#7+Person, Submission#7+Person, Submission#7+Person ] }, { Submission#7+Person: FirstName: Hobie , LastName: Buchannon, Age: 23, Friends: [ Submission#7+Person, Submission#7+Person, Submission#7+Person ] }, { Submission#7+Person: FirstName: C.J., LastName: Parker, Age: 23, Friends: [ Submission#7+Person, Submission#7+Person, Submission#7+Person ] } ] } ] }</td></tr><tr><td>3</td><td>C.J.</td><td>Parker</td><td>23</td><td>{ Submission#7+Person: FirstName: Mitch, LastName: Buchannon, Age: 42, Friends: [ { Submission#7+Person: FirstName: Hobie , LastName: Buchannon, Age: 23, Friends: [ { Submission#7+Person: FirstName: Mitch, LastName: Buchannon, Age: 42, Friends: [ Submission#7+Person, Submission#7+Person, Submission#7+Person ] }, { Submission#7+Person: FirstName: Summer, LastName: Quinn, Age: 25, Friends: [ Submission#7+Person, Submission#7+Person, Submission#7+Person ] }, { Submission#7+Person: FirstName: C.J., LastName: Parker, Age: 23, Friends: [ Submission#7+Person, Submission#7+Person, Submission#7+Person ] } ] }, { Submission#7+Person: FirstName: Summer, LastName: Quinn, Age: 25, Friends: [ { Submission#7+Person: FirstName: Mitch, LastName: Buchannon, Age: 42, Friends: [ Submission#7+Person, Submission#7+Person, Submission#7+Person ] }, { Submission#7+Person: FirstName: Hobie , LastName: Buchannon, Age: 23, Friends: [ Submission#7+Person, Submission#7+Person, Submission#7+Person ] }, { Submission#7+Person: FirstName: C.J., LastName: Parker, Age: 23, Friends: [ Submission#7+Person, Submission#7+Person, Submission#7+Person ] } ] }, { Submission#7+Person: FirstName: C.J., LastName: Parker, Age: 23, Friends: [ { Submission#7+Person: FirstName: Mitch, LastName: Buchannon, Age: 42, Friends: [ Submission#7+Person, Submission#7+Person, Submission#7+Person ] }, { Submission#7+Person: FirstName: Hobie , LastName: Buchannon, Age: 23, Friends: [ Submission#7+Person, Submission#7+Person, Submission#7+Person ] }, { Submission#7+Person: FirstName: Summer, LastName: Quinn, Age: 25, Friends: [ Submission#7+Person, Submission#7+Person, Submission#7+Person ] } ] } ] }{ Submission#7+Person: FirstName: Hobie , LastName: Buchannon, Age: 23, Friends: [ { Submission#7+Person: FirstName: Mitch, LastName: Buchannon, Age: 42, Friends: [ { Submission#7+Person: FirstName: Hobie , LastName: Buchannon, Age: 23, Friends: [ Submission#7+Person, Submission#7+Person, Submission#7+Person ] }, { Submission#7+Person: FirstName: Summer, LastName: Quinn, Age: 25, Friends: [ Submission#7+Person, Submission#7+Person, Submission#7+Person ] }, { Submission#7+Person: FirstName: C.J., LastName: Parker, Age: 23, Friends: [ Submission#7+Person, Submission#7+Person, Submission#7+Person ] } ] }, { Submission#7+Person: FirstName: Summer, LastName: Quinn, Age: 25, Friends: [ { Submission#7+Person: FirstName: Mitch, LastName: Buchannon, Age: 42, Friends: [ Submission#7+Person, Submission#7+Person, Submission#7+Person ] }, { Submission#7+Person: FirstName: Hobie , LastName: Buchannon, Age: 23, Friends: [ Submission#7+Person, Submission#7+Person, Submission#7+Person ] }, { Submission#7+Person: FirstName: C.J., LastName: Parker, Age: 23, Friends: [ Submission#7+Person, Submission#7+Person, Submission#7+Person ] } ] }, { Submission#7+Person: FirstName: C.J., LastName: Parker, Age: 23, Friends: [ { Submission#7+Person: FirstName: Mitch, LastName: Buchannon, Age: 42, Friends: [ Submission#7+Person, Submission#7+Person, Submission#7+Person ] }, { Submission#7+Person: FirstName: Hobie , LastName: Buchannon, Age: 23, Friends: [ Submission#7+Person, Submission#7+Person, Submission#7+Person ] }, { Submission#7+Person: FirstName: Summer, LastName: Quinn, Age: 25, Friends: [ Submission#7+Person, Submission#7+Person, Submission#7+Person ] } ] } ] }{ Submission#7+Person: FirstName: Summer, LastName: Quinn, Age: 25, Friends: [ { Submission#7+Person: FirstName: Mitch, LastName: Buchannon, Age: 42, Friends: [ { Submission#7+Person: FirstName: Hobie , LastName: Buchannon, Age: 23, Friends: [ Submission#7+Person, Submission#7+Person, Submission#7+Person ] }, { Submission#7+Person: FirstName: Summer, LastName: Quinn, Age: 25, Friends: [ Submission#7+Person, Submission#7+Person, Submission#7+Person ] }, { Submission#7+Person: FirstName: C.J., LastName: Parker, Age: 23, Friends: [ Submission#7+Person, Submission#7+Person, Submission#7+Person ] } ] }, { Submission#7+Person: FirstName: Hobie , LastName: Buchannon, Age: 23, Friends: [ { Submission#7+Person: FirstName: Mitch, LastName: Buchannon, Age: 42, Friends: [ Submission#7+Person, Submission#7+Person, Submission#7+Person ] }, { Submission#7+Person: FirstName: Summer, LastName: Quinn, Age: 25, Friends: [ Submission#7+Person, Submission#7+Person, Submission#7+Person ] }, { Submission#7+Person: FirstName: C.J., LastName: Parker, Age: 23, Friends: [ Submission#7+Person, Submission#7+Person, Submission#7+Person ] } ] }, { Submission#7+Person: FirstName: C.J., LastName: Parker, Age: 23, Friends: [ { Submission#7+Person: FirstName: Mitch, LastName: Buchannon, Age: 42, Friends: [ Submission#7+Person, Submission#7+Person, Submission#7+Person ] }, { Submission#7+Person: FirstName: Hobie , LastName: Buchannon, Age: 23, Friends: [ Submission#7+Person, Submission#7+Person, Submission#7+Person ] }, { Submission#7+Person: FirstName: Summer, LastName: Quinn, Age: 25, Friends: [ Submission#7+Person, Submission#7+Person, Submission#7+Person ] } ] } ] }</td></tr></tbody></table>"
      ]
     },
     "metadata": {},
     "output_type": "display_data"
    }
   ],
   "source": [
    "class Person \n",
    "{\n",
    "    public string FirstName { get; set; }\n",
    "    public string LastName { get; set; }\n",
    "    public int Age { get; set; } \n",
    "    public List<Person> Friends { get; } = new List<Person>();\n",
    "}\n",
    "\n",
    "\n",
    "var mitch = new Person { FirstName = \"Mitch\", LastName = \"Buchannon\", Age = 42 };\n",
    "var hobie = new Person { FirstName = \"Hobie \", LastName = \"Buchannon\", Age = 23 };\n",
    "var summer = new Person { FirstName = \"Summer\", LastName = \"Quinn\", Age = 25 };\n",
    "var cj = new Person { FirstName = \"C.J.\", LastName = \"Parker\", Age = 23 };\n",
    "\n",
    "mitch.Friends.AddRange(new [] { hobie, summer, cj });\n",
    "hobie.Friends.AddRange(new [] { mitch, summer, cj });\n",
    "summer.Friends.AddRange(new [] { mitch, hobie, cj });\n",
    "cj.Friends.AddRange(new [] { mitch, hobie, summer });\n",
    "\n",
    "var groupOfPeople = new List<Person> { mitch, hobie, summer, cj };\n",
    "\n",
    "display(groupOfPeople);"
   ]
  },
  {
   "cell_type": "markdown",
   "metadata": {},
   "source": [
    "That's a bit hard to read, right? \n",
    "\n",
    "The defaut formatting behaviors are thorough, but that doesn't always mean they're as useful as they might be. In order to give you more control in these kinds of cases, the object formatters can be customized from within the .NET notebook."
   ]
  },
  {
   "cell_type": "markdown",
   "metadata": {},
   "source": [
    "## Custom formatters"
   ]
  },
  {
   "cell_type": "markdown",
   "metadata": {},
   "source": [
    "Let's clean up the output above by customizing the formatter for the `Person.Friends` property, which is creating a lot of noise. \n",
    "\n",
    "The way to do this is to use the `Formatter` API. This API lets you customize the formatting for a specific type. Since `Person.Friends` is of type `List<Person>`, we can register a custom formatter for that type to change the output. Let's just list their first names:"
   ]
  },
  {
   "cell_type": "code",
   "execution_count": 8,
   "metadata": {},
   "outputs": [
    {
     "data": {
      "text/html": [
       "<table><thead><tr><th><i>index</i></th><th>FirstName</th><th>LastName</th><th>Age</th><th>Friends</th></tr></thead><tbody><tr><td>0</td><td>Mitch</td><td>Buchannon</td><td>42</td><td>{ Submission#7+Person: FirstName: Hobie , LastName: Buchannon, Age: 23, Friends: personpersonperson }{ Submission#7+Person: FirstName: Summer, LastName: Quinn, Age: 25, Friends: personpersonperson }{ Submission#7+Person: FirstName: C.J., LastName: Parker, Age: 23, Friends: personpersonperson }</td></tr><tr><td>1</td><td>Hobie </td><td>Buchannon</td><td>23</td><td>{ Submission#7+Person: FirstName: Mitch, LastName: Buchannon, Age: 42, Friends: personpersonperson }{ Submission#7+Person: FirstName: Summer, LastName: Quinn, Age: 25, Friends: personpersonperson }{ Submission#7+Person: FirstName: C.J., LastName: Parker, Age: 23, Friends: personpersonperson }</td></tr><tr><td>2</td><td>Summer</td><td>Quinn</td><td>25</td><td>{ Submission#7+Person: FirstName: Mitch, LastName: Buchannon, Age: 42, Friends: personpersonperson }{ Submission#7+Person: FirstName: Hobie , LastName: Buchannon, Age: 23, Friends: personpersonperson }{ Submission#7+Person: FirstName: C.J., LastName: Parker, Age: 23, Friends: personpersonperson }</td></tr><tr><td>3</td><td>C.J.</td><td>Parker</td><td>23</td><td>{ Submission#7+Person: FirstName: Mitch, LastName: Buchannon, Age: 42, Friends: personpersonperson }{ Submission#7+Person: FirstName: Hobie , LastName: Buchannon, Age: 23, Friends: personpersonperson }{ Submission#7+Person: FirstName: Summer, LastName: Quinn, Age: 25, Friends: personpersonperson }</td></tr></tbody></table>"
      ]
     },
     "execution_count": 8,
     "metadata": {},
     "output_type": "execute_result"
    }
   ],
   "source": [
    "Formatter<List<Person>>.Register((people, writer) => {\n",
    "   foreach (var person in people)\n",
    "   {\n",
    "       writer.Write(\"person\");\n",
    "   }\n",
    "}, mimeType: \"text/plain\");\n",
    "\n",
    "groupOfPeople"
   ]
  },
  {
   "cell_type": "markdown",
   "metadata": {},
   "source": [
    "You might have noticed that `groupOfPeople` is of type `List<Person>`, but the table output still includes columns for `LastName`, `Age`, and `Friends`. What's going on here?\n",
    "\n",
    "Notice that the custom formatter we just registered was registered for the mime type `\"text/plain\"`. The top-level formatter that's used when we call `display` requests output of mime type `\"text/html\"` and the nested objects are formatted using `\"text/plain\"`. It's the nested objects, not the top-level HTML table, that's using the custom formatter here.\n",
    "\n",
    "With that in mind, we can make it even more concise by registering a formatter for `Person`:"
   ]
  },
  {
   "cell_type": "code",
   "execution_count": 9,
   "metadata": {},
   "outputs": [
    {
     "data": {
      "text/html": [
       "<table><thead><tr><th><i>index</i></th><th>FirstName</th><th>LastName</th><th>Age</th><th>Friends</th></tr></thead><tbody><tr><td>0</td><td>Mitch</td><td>Buchannon</td><td>42</td><td>Hobie SummerC.J.</td></tr><tr><td>1</td><td>Hobie </td><td>Buchannon</td><td>23</td><td>MitchSummerC.J.</td></tr><tr><td>2</td><td>Summer</td><td>Quinn</td><td>25</td><td>MitchHobie C.J.</td></tr><tr><td>3</td><td>C.J.</td><td>Parker</td><td>23</td><td>MitchHobie Summer</td></tr></tbody></table>"
      ]
     },
     "execution_count": 9,
     "metadata": {},
     "output_type": "execute_result"
    }
   ],
   "source": [
    "Formatter<Person>.Register((person, writer) => {\n",
    "   writer.Write(person.FirstName);\n",
    "}, mimeType: \"text/plain\");\n",
    "\n",
    "groupOfPeople"
   ]
  },
  {
   "cell_type": "markdown",
   "metadata": {},
   "source": [
    "Of course, you might not want table output. To replace the default HTML table view, you can register a formatter for the `\"text/html\"` mime type. Let's do that, and write some HTML using PocketView."
   ]
  },
  {
   "cell_type": "code",
   "execution_count": null,
   "metadata": {},
   "outputs": [],
   "source": [
    "Formatter<List<Person>>.Register((people, writer) => \n",
    "{\n",
    "    foreach (var person in people)\n",
    "    {\n",
    "        writer.Write(\n",
    "            span(\n",
    "                b(person), \n",
    "                \" \",\n",
    "                i($\"({person.Age} years old and has {person.Friends.Count} friends)\"),\n",
    "                br));\n",
    "    }\n",
    "}, mimeType: \"text/html\");\n",
    "\n",
    "groupOfPeople"
   ]
  },
  {
   "cell_type": "markdown",
   "metadata": {},
   "source": [
    "---\n",
    "**_See also_**\n",
    "* [Output](Output.ipynb)\n",
    "* [HTML](HTML.ipynb)"
   ]
  }
 ],
 "metadata": {
  "kernelspec": {
   "display_name": ".NET (C#)",
   "language": "C#",
   "name": ".net-csharp"
  },
  "language_info": {
   "file_extension": ".cs",
   "mimetype": "text/x-csharp",
   "name": "C#",
   "pygments_lexer": "csharp",
   "version": "8.0"
  }
 },
 "nbformat": 4,
 "nbformat_minor": 2
}
