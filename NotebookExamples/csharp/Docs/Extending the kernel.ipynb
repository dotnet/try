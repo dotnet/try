{
 "cells": [
  {
   "cell_type": "markdown",
   "metadata": {},
   "source": [
    "# Extending the kernel\n",
    "\n",
    "The .NET kernel can be extended and customized in a number of ways. You can add new magic commands, and you can intercept code submissions using the middleware pipeine. Kernel extensions can be published as NuGet packages for easy sharing and reuse.\n",
    "\n",
    "Let's look at a few examples."
   ]
  },
  {
   "cell_type": "markdown",
   "metadata": {},
   "source": [
    "## Adding magic commands\n",
    "\n"
   ]
  },
  {
   "cell_type": "markdown",
   "metadata": {},
   "source": [
    "## Using middleware"
   ]
  },
  {
   "cell_type": "code",
   "execution_count": null,
   "metadata": {},
   "outputs": [],
   "source": [
    "var status = display(\"Status\");"
   ]
  },
  {
   "cell_type": "code",
   "execution_count": null,
   "metadata": {},
   "outputs": [],
   "source": [
    "using Microsoft.DotNet.Interactive;\n",
    "using Microsoft.DotNet.Interactive.Events;\n",
    "using WorkspaceServer;\n",
    "using WorkspaceServer.Kernel;\n",
    "using Microsoft.CodeAnalysis;\n",
    "using System.IO;\n",
    "\n",
    "var handlingKernel = KernelInvocationContext.Current.HandlingKernel;\n",
    "\n",
    "((CSharpKernel)handlingKernel).Pipeline.AddMiddleware(async (command, context, next) =>\n",
    "{\n",
    "     status.Update(\"before\");\n",
    "    \n",
    "     await next(command, context);\n",
    "    \n",
    "     sta(\"after\");\n",
    "});"
   ]
  },
  {
   "cell_type": "code",
   "execution_count": null,
   "metadata": {},
   "outputs": [],
   "source": [
    "12"
   ]
  },
  {
   "cell_type": "code",
   "execution_count": null,
   "metadata": {},
   "outputs": [],
   "source": []
  }
 ],
 "metadata": {
  "kernelspec": {
   "display_name": ".NET (C#)",
   "language": "C#",
   "name": ".net-csharp"
  },
  "language_info": {
   "file_extension": ".cs",
   "mimetype": "text/x-csharp",
   "name": "C#",
   "pygments_lexer": "csharp",
   "version": "8.0"
  }
 },
 "nbformat": 4,
 "nbformat_minor": 2
}
