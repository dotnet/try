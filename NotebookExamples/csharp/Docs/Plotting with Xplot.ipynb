{
 "cells": [
  {
   "cell_type": "markdown",
   "metadata": {},
   "source": [
    "# Charts with XPlot\n",
    "Charts can be rendered using [Xplot.Plotly](https://fslab.org/XPlot/). \n",
    "We will cover some example on how to use XPlot in a notebook with the .NET Kernel.\n",
    "\n",
    "First, import the `XPlot.Plotly` namespace:"
   ]
  },
  {
   "cell_type": "code",
   "execution_count": null,
   "metadata": {},
   "outputs": [],
   "source": [
    "using XPlot.Plotly;"
   ]
  },
  {
   "cell_type": "markdown",
   "metadata": {},
   "source": [
    "Next, let's create two scatter plot series and combine them in a single chart."
   ]
  },
  {
   "cell_type": "code",
   "execution_count": null,
   "metadata": {},
   "outputs": [],
   "source": [
    "var openSeries = new Graph.Scatter\n",
    "{\n",
    "    name = \"Open\",\n",
    "    x = new[] {1, 2, 3, 4},\n",
    "    y = new[] {10, 15, 13, 17}\n",
    "};\n",
    "\n",
    "var closeSeries = new Graph.Scatter\n",
    "{\n",
    "    name = \"Close\",\n",
    "    x = new[] { 2,3,4,5 },\n",
    "    y = new[] { 16, 5, 11, 9 }\n",
    "};\n",
    "\n",
    "var chart = Chart.Plot(new[] {openSeries, closeSeries});\n",
    "chart.Width = 700;\n",
    "chart.Height = 500;\n",
    "chart.WithTitle(\"Open vs Close\");\n",
    "display(chart);"
   ]
  },
  {
   "cell_type": "markdown",
   "metadata": {},
   "source": [
    "Let's change it to be markers style, so more like a scatter plot."
   ]
  },
  {
   "cell_type": "code",
   "execution_count": null,
   "metadata": {},
   "outputs": [],
   "source": [
    "openSeries.mode = \"markers\";\n",
    "closeSeries.mode = \"markers\";\n",
    "chart = Chart.Plot(new [] {openSeries, closeSeries});\n",
    "display(chart);"
   ]
  },
  {
   "cell_type": "markdown",
   "metadata": {},
   "source": [
    "Next, let render some histograms.\n",
    "\n",
    "Generate some time series data to render:"
   ]
  },
  {
   "cell_type": "code",
   "execution_count": null,
   "metadata": {},
   "outputs": [],
   "source": [
    "var count = 20;\n",
    "var generator = new Random(10);\n",
    "var dates = Enumerable.Range(0, count).Select(i => DateTime.Now.AddMinutes(generator.Next(i, i + 30))).ToArray();"
   ]
  },
  {
   "cell_type": "markdown",
   "metadata": {},
   "source": [
    "Now let's define histogram traces:"
   ]
  },
  {
   "cell_type": "code",
   "execution_count": null,
   "metadata": {},
   "outputs": [],
   "source": [
    "var openByTime = new Graph.Histogram\n",
    "{\n",
    "    x = dates,\n",
    "    y = Enumerable.Range(0, count).Select(_ => generator.Next(0,200)),\n",
    "    name = \"Open\",\n",
    "    histfunc = \"sum\"\n",
    "};\n",
    "\n",
    "var closeByTime = new Graph.Histogram\n",
    "{\n",
    "    x = dates,\n",
    "    y = Enumerable.Range(0, count).Select(_ => generator.Next(0, 200)),\n",
    "    name = \"Close\",\n",
    "    histfunc = \"sum\"\n",
    "};\n",
    "chart = Chart.Plot(new [] {openByTime, closeByTime});\n",
    "display(chart);"
   ]
  },
  {
   "cell_type": "markdown",
   "metadata": {},
   "source": [
    "The Histogram generator will automatically count the number of items per bin, but by setting `histfunc` to `\"sum\"`, we can now add all of the values contained in each bin.\n",
    "\n",
    "Note that we are creatng bin using the `x` data point and we are using bydefault autobinx"
   ]
  },
  {
   "cell_type": "code",
   "execution_count": null,
   "metadata": {},
   "outputs": [],
   "source": []
  }
 ],
 "metadata": {
  "kernelspec": {
   "display_name": ".NET (C#)",
   "language": "C#",
   "name": ".net-csharp"
  },
  "language_info": {
   "file_extension": ".cs",
   "mimetype": "text/x-csharp",
   "name": "C#",
   "pygments_lexer": "csharp",
   "version": "8.0"
  }
 },
 "nbformat": 4,
 "nbformat_minor": 2
}
