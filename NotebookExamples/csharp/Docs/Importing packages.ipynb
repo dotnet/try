{
 "cells": [
  {
   "cell_type": "markdown",
   "metadata": {},
   "source": [
    "# Importing packages "
   ]
  },
  {
   "cell_type": "markdown",
   "metadata": {},
   "source": [
    "You can load packages into a .NET notebook from NuGet using the following syntax:\n",
    "\n",
    "```csharp\n",
    "#r \"nuget:<package name>[,<package version>]\"\n",
    "```\n",
    "\n",
    "If you don't provide an explicit package version, the latest available non-preview version will be loaded.\n",
    "\n",
    "Here's an example:"
   ]
  },
  {
   "cell_type": "code",
   "execution_count": 1,
   "metadata": {},
   "outputs": [
    {
     "data": {
      "text/html": [
       "Installing package System.Reactive.Linq, version 4.1.5..............done!"
      ]
     },
     "metadata": {},
     "output_type": "display_data"
    },
    {
     "data": {
      "text/html": [
       "Successfully added reference to package System.Reactive.Linq, version 4.1.5"
      ]
     },
     "metadata": {},
     "output_type": "display_data"
    }
   ],
   "source": [
    "#r \"nuget:System.Reactive.Linq, 4.1.5\"\n",
    "\n",
    "using System.Reactive;\n",
    "using System.Reactive.Linq;\n",
    "using System.Reactive.Concurrency;"
   ]
  },
  {
   "cell_type": "code",
   "execution_count": 4,
   "metadata": {},
   "outputs": [
    {
     "data": {
      "text/plain": [
       "9"
      ]
     },
     "metadata": {},
     "output_type": "display_data"
    }
   ],
   "source": [
    "var output = display(\"Counting...\");\n",
    "\n",
    "var sub = Observable\n",
    "    .Interval(TimeSpan.FromSeconds(.5), CurrentThreadScheduler.Instance)    \n",
    "    .Take(10) \n",
    "    .Subscribe(i => output.Update(i));"
   ]
  },
  {
   "cell_type": "code",
   "execution_count": null,
   "metadata": {},
   "outputs": [],
   "source": []
  }
 ],
 "metadata": {
  "kernelspec": {
   "display_name": ".NET (C#)",
   "language": "C#",
   "name": ".net-csharp"
  },
  "language_info": {
   "file_extension": ".cs",
   "mimetype": "text/x-csharp",
   "name": "C#",
   "pygments_lexer": "csharp",
   "version": "8.0"
  }
 },
 "nbformat": 4,
 "nbformat_minor": 2
}
