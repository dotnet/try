{
 "cells": [
  {
   "cell_type": "markdown",
   "metadata": {},
   "source": [
    "We will cover some example on how to use xplot in a notebook with C# .NET Kernel, first import the namespace."
   ]
  },
  {
   "cell_type": "code",
   "execution_count": 1,
   "metadata": {},
   "outputs": [],
   "source": [
    "using XPlot.Plotly;"
   ]
  },
  {
   "cell_type": "markdown",
   "metadata": {},
   "source": [
    "Let's try do declare two scattler plot series and combine them in a single chart"
   ]
  },
  {
   "cell_type": "code",
   "execution_count": 2,
   "metadata": {},
   "outputs": [
    {
     "data": {
      "text/html": [
       "<div id=\"1f383acd-c690-45c5-9ba4-c94d37431a16\" style=\"width: 700px; height: 500px;\"></div><script type=\"text/javascript\">\r\n",
       "\r\n",
       "var renderPlotly = function() {\r\n",
       "    var xplotRequire = requirejs.config({context:'xplot-2.0.0',paths:{plotly:'https://cdn.plot.ly/plotly-1.49.2.min'}});\r\n",
       "    xplotRequire(['plotly'], function(Plotly) {\r\n",
       "\n",
       "            var data = [{\"type\":\"scatter\",\"x\":[1,2,3,4],\"y\":[10,15,13,17],\"name\":\"Open\"},{\"type\":\"scatter\",\"x\":[2,3,4,5],\"y\":[16,5,11,9],\"name\":\"Close\"}];\n",
       "            var layout = {\"title\":\"Open vs Close\"};\n",
       "            Plotly.newPlot('1f383acd-c690-45c5-9ba4-c94d37431a16', data, layout);\n",
       "        });\r\n",
       "};\r\n",
       "if ((typeof(requirejs) !==  typeof(Function)) || (typeof(requirejs.config) !== typeof(Function))) { \r\n",
       "    var script = document.createElement(\"script\"); \r\n",
       "    script.setAttribute(\"src\", \"https://cdnjs.cloudflare.com/ajax/libs/require.js/2.3.6/require.min.js\"); \r\n",
       "    script.onload = function(){\r\n",
       "        renderPlotly();\r\n",
       "    };\r\n",
       "    document.getElementsByTagName(\"head\")[0].appendChild(script); \r\n",
       "}\r\n",
       "else {\r\n",
       "    renderPlotly();\r\n",
       "}\r\n",
       "</script>"
      ]
     },
     "metadata": {},
     "output_type": "display_data"
    }
   ],
   "source": [
    "var openSeries = new Graph.Scatter\n",
    "{\n",
    "    name = \"Open\",\n",
    "    x = new[] {1, 2, 3, 4},\n",
    "    y = new[] {10, 15, 13, 17}\n",
    "};\n",
    "\n",
    "var closeSeries = new Graph.Scatter\n",
    "{\n",
    "    name = \"Close\",\n",
    "    x = new[] { 2,3,4,5 },\n",
    "    y = new[] { 16, 5, 11, 9 }\n",
    "};\n",
    "\n",
    "var chart = Chart.Plot(new[] {openSeries, closeSeries});\n",
    "chart.Width = 700;\n",
    "chart.Height = 500;\n",
    "chart.WithTitle(\"Open vs Close\");\n",
    "display(chart);"
   ]
  },
  {
   "cell_type": "markdown",
   "metadata": {},
   "source": [
    "Let's change it to be markers style, so more like a scatter plot!"
   ]
  },
  {
   "cell_type": "code",
   "execution_count": 3,
   "metadata": {},
   "outputs": [
    {
     "data": {
      "text/html": [
       "<div id=\"f05639c4-9754-4150-a545-da8a29e2d797\" style=\"width: 900px; height: 500px;\"></div><script type=\"text/javascript\">\r\n",
       "\r\n",
       "var renderPlotly = function() {\r\n",
       "    var xplotRequire = requirejs.config({context:'xplot-2.0.0',paths:{plotly:'https://cdn.plot.ly/plotly-1.49.2.min'}});\r\n",
       "    xplotRequire(['plotly'], function(Plotly) {\r\n",
       "\n",
       "            var data = [{\"type\":\"scatter\",\"x\":[1,2,3,4],\"y\":[10,15,13,17],\"mode\":\"markers\",\"name\":\"Open\"},{\"type\":\"scatter\",\"x\":[2,3,4,5],\"y\":[16,5,11,9],\"mode\":\"markers\",\"name\":\"Close\"}];\n",
       "            var layout = \"\";\n",
       "            Plotly.newPlot('f05639c4-9754-4150-a545-da8a29e2d797', data, layout);\n",
       "        });\r\n",
       "};\r\n",
       "if ((typeof(requirejs) !==  typeof(Function)) || (typeof(requirejs.config) !== typeof(Function))) { \r\n",
       "    var script = document.createElement(\"script\"); \r\n",
       "    script.setAttribute(\"src\", \"https://cdnjs.cloudflare.com/ajax/libs/require.js/2.3.6/require.min.js\"); \r\n",
       "    script.onload = function(){\r\n",
       "        renderPlotly();\r\n",
       "    };\r\n",
       "    document.getElementsByTagName(\"head\")[0].appendChild(script); \r\n",
       "}\r\n",
       "else {\r\n",
       "    renderPlotly();\r\n",
       "}\r\n",
       "</script>"
      ]
     },
     "metadata": {},
     "output_type": "display_data"
    }
   ],
   "source": [
    "openSeries.mode = \"markers\";\n",
    "closeSeries.mode = \"markers\";\n",
    "chart = Chart.Plot(new [] {openSeries, closeSeries});\n",
    "display(chart);"
   ]
  },
  {
   "cell_type": "markdown",
   "metadata": {},
   "source": [
    "Let's have a look at using histograms"
   ]
  },
  {
   "cell_type": "markdown",
   "metadata": {},
   "source": [
    "First let's generate some timeseries data"
   ]
  },
  {
   "cell_type": "code",
   "execution_count": 4,
   "metadata": {},
   "outputs": [],
   "source": [
    "var count = 20;\n",
    "var generator = new Random(10);\n",
    "var dates = Enumerable.Range(0, count).Select(i => DateTime.Now.AddMinutes(generator.Next(i, i + 30))).ToArray();"
   ]
  },
  {
   "cell_type": "markdown",
   "metadata": {},
   "source": [
    "Now let's define histogram traces"
   ]
  },
  {
   "cell_type": "code",
   "execution_count": 5,
   "metadata": {},
   "outputs": [
    {
     "data": {
      "text/html": [
       "<div id=\"f6957266-2fe5-4ee1-978b-cca9e4665905\" style=\"width: 900px; height: 500px;\"></div><script type=\"text/javascript\">\r\n",
       "\r\n",
       "var renderPlotly = function() {\r\n",
       "    var xplotRequire = requirejs.config({context:'xplot-2.0.0',paths:{plotly:'https://cdn.plot.ly/plotly-1.49.2.min'}});\r\n",
       "    xplotRequire(['plotly'], function(Plotly) {\r\n",
       "\n",
       "            var data = [{\"type\":\"histogram\",\"x\":[\"2019-09-17T18:30:36.2192793+01:00\",\"2019-09-17T18:25:36.2196443+01:00\",\"2019-09-17T18:26:36.2196467+01:00\",\"2019-09-17T18:25:36.2196472+01:00\",\"2019-09-17T18:27:36.2196478+01:00\",\"2019-09-17T18:15:36.2196491+01:00\",\"2019-09-17T18:19:36.2196503+01:00\",\"2019-09-17T18:22:36.2196515+01:00\",\"2019-09-17T18:16:36.2196522+01:00\",\"2019-09-17T18:39:36.2196527+01:00\",\"2019-09-17T18:31:36.2196531+01:00\",\"2019-09-17T18:21:36.2196535+01:00\",\"2019-09-17T18:29:36.2196542+01:00\",\"2019-09-17T18:35:36.2196547+01:00\",\"2019-09-17T18:45:36.2196551+01:00\",\"2019-09-17T18:25:36.2196556+01:00\",\"2019-09-17T18:19:36.219656+01:00\",\"2019-09-17T18:24:36.2196565+01:00\",\"2019-09-17T18:48:36.2196572+01:00\",\"2019-09-17T18:26:36.2196584+01:00\"],\"y\":[29,60,136,105,135,191,106,176,61,26,175,17,63,47,26,39,62,39,11,127],\"histfunc\":\"sum\",\"name\":\"Open\"},{\"type\":\"histogram\",\"x\":[\"2019-09-17T18:30:36.2192793+01:00\",\"2019-09-17T18:25:36.2196443+01:00\",\"2019-09-17T18:26:36.2196467+01:00\",\"2019-09-17T18:25:36.2196472+01:00\",\"2019-09-17T18:27:36.2196478+01:00\",\"2019-09-17T18:15:36.2196491+01:00\",\"2019-09-17T18:19:36.2196503+01:00\",\"2019-09-17T18:22:36.2196515+01:00\",\"2019-09-17T18:16:36.2196522+01:00\",\"2019-09-17T18:39:36.2196527+01:00\",\"2019-09-17T18:31:36.2196531+01:00\",\"2019-09-17T18:21:36.2196535+01:00\",\"2019-09-17T18:29:36.2196542+01:00\",\"2019-09-17T18:35:36.2196547+01:00\",\"2019-09-17T18:45:36.2196551+01:00\",\"2019-09-17T18:25:36.2196556+01:00\",\"2019-09-17T18:19:36.219656+01:00\",\"2019-09-17T18:24:36.2196565+01:00\",\"2019-09-17T18:48:36.2196572+01:00\",\"2019-09-17T18:26:36.2196584+01:00\"],\"y\":[36,98,168,81,35,120,147,122,24,108,114,45,177,105,39,129,13,46,2,152],\"histfunc\":\"sum\",\"name\":\"Close\"}];\n",
       "            var layout = \"\";\n",
       "            Plotly.newPlot('f6957266-2fe5-4ee1-978b-cca9e4665905', data, layout);\n",
       "        });\r\n",
       "};\r\n",
       "if ((typeof(requirejs) !==  typeof(Function)) || (typeof(requirejs.config) !== typeof(Function))) { \r\n",
       "    var script = document.createElement(\"script\"); \r\n",
       "    script.setAttribute(\"src\", \"https://cdnjs.cloudflare.com/ajax/libs/require.js/2.3.6/require.min.js\"); \r\n",
       "    script.onload = function(){\r\n",
       "        renderPlotly();\r\n",
       "    };\r\n",
       "    document.getElementsByTagName(\"head\")[0].appendChild(script); \r\n",
       "}\r\n",
       "else {\r\n",
       "    renderPlotly();\r\n",
       "}\r\n",
       "</script>"
      ]
     },
     "metadata": {},
     "output_type": "display_data"
    }
   ],
   "source": [
    "var openByTime = new Graph.Histogram\n",
    "{\n",
    "    x = dates,\n",
    "    y = Enumerable.Range(0, count).Select(_ => generator.Next(0,200)),\n",
    "    name = \"Open\",\n",
    "    histfunc = \"sum\"\n",
    "};\n",
    "\n",
    "var closeByTime = new Graph.Histogram\n",
    "{\n",
    "    x = dates,\n",
    "    y = Enumerable.Range(0, count).Select(_ => generator.Next(0, 200)),\n",
    "    name = \"Close\",\n",
    "    histfunc = \"sum\"\n",
    "};\n",
    "chart = Chart.Plot(new [] {openByTime, closeByTime});\n",
    "display(chart);"
   ]
  },
  {
   "cell_type": "markdown",
   "metadata": {},
   "source": [
    "The Histogram generator will automatically count the number of items per bin, but by setting ```histfunc``` to ```\"sum\"``` we can now add up all the values contained in each bin,\n",
    "\n",
    "Note that we are creatng bin using the ```x``` data point and we are using bydefault autobinx"
   ]
  }
 ],
 "metadata": {
  "kernelspec": {
   "display_name": ".NET (C#)",
   "language": "C#",
   "name": ".net-csharp"
  },
  "language_info": {
   "file_extension": ".cs",
   "mimetype": "text/x-csharp",
   "name": "C#",
   "pygments_lexer": "csharp",
   "version": "7.3"
  }
 },
 "nbformat": 4,
 "nbformat_minor": 2
}
