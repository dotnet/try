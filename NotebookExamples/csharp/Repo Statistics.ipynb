{
 "cells": [
  {
   "cell_type": "markdown",
   "metadata": {},
   "source": [
    "## Repo statistics for trydotnet"
   ]
  },
  {
   "cell_type": "code",
   "execution_count": 1,
   "metadata": {},
   "outputs": [
    {
     "data": {
      "text/html": [
       "Attempting to install package Octokit, version 0.32.0............................................................done!"
      ]
     },
     "metadata": {},
     "output_type": "display_data"
    },
    {
     "data": {
      "text/html": [
       "Successfully added reference to package Octokit, version 0.32.0"
      ]
     },
     "metadata": {},
     "output_type": "display_data"
    },
    {
     "data": {
      "text/html": [
       "Attempting to install package NodaTime, version 2.4.6..................done!"
      ]
     },
     "metadata": {},
     "output_type": "display_data"
    },
    {
     "data": {
      "text/html": [
       "Successfully added reference to package NodaTime, version 2.4.6"
      ]
     },
     "metadata": {},
     "output_type": "display_data"
    }
   ],
   "source": [
    "#r \"nuget:Octokit, 0.32.0\"\n",
    "#r \"nuget:NodaTime, 2.4.6\"\n",
    "using Octokit;\n",
    "using NodaTime;\n",
    "using NodaTime.Extensions;\n",
    "using XPlot.Plotly;"
   ]
  },
  {
   "cell_type": "code",
   "execution_count": 2,
   "metadata": {},
   "outputs": [],
   "source": [
    "var today = SystemClock.Instance.InUtc().GetCurrentDate();\n",
    "var startOfTheMonth = today.With(DateAdjusters.StartOfMonth);\n",
    "var startOfTheYear = new LocalDate(today.Year, 1, 1).AtMidnight();"
   ]
  },
  {
   "cell_type": "code",
   "execution_count": 3,
   "metadata": {},
   "outputs": [],
   "source": [
    "var options = new ApiOptions();\n",
    "var gitHubClient = new GitHubClient(new ProductHeaderValue(\"notebook\"));"
   ]
  },
  {
   "cell_type": "code",
   "execution_count": 4,
   "metadata": {},
   "outputs": [],
   "source": [
    "var createdIssuesRequest = new RepositoryIssueRequest\n",
    "            {\n",
    "                Since = startOfTheMonth.ToDateTimeUnspecified(),\n",
    "                Filter = IssueFilter.Created\n",
    "            };\n",
    "var closedIssuesRequest = new RepositoryIssueRequest\n",
    "            {\n",
    "                Since = startOfTheMonth.ToDateTimeUnspecified(),\n",
    "                State = ItemStateFilter.Closed\n",
    "            };\n",
    "var thisYearIssuesRequest = new RepositoryIssueRequest\n",
    "            {\n",
    "                Since = startOfTheYear.ToDateTimeUnspecified()\n",
    "            };"
   ]
  },
  {
   "cell_type": "code",
   "execution_count": 5,
   "metadata": {},
   "outputs": [],
   "source": [
    "var createdThisMonth = await gitHubClient.Issue.GetAllForRepository(\"dotnet\", \"try\", createdIssuesRequest);\n",
    "var closedThisMonth = await gitHubClient.Issue.GetAllForRepository(\"dotnet\", \"try\", closedIssuesRequest);\n",
    "var thisYearIssues = await gitHubClient.Issue.GetAllForRepository(\"dotnet\", \"try\", thisYearIssuesRequest);"
   ]
  },
  {
   "cell_type": "code",
   "execution_count": 6,
   "metadata": {},
   "outputs": [],
   "source": [
    "var openSoFar = createdThisMonth.Where(i => i.State.StringValue == \"open\");\n",
    "var openByMonth = openSoFar.GroupBy(i => new { i.CreatedAt.Year, i.CreatedAt.Month})\n",
    "                .Select(g => new {Date = g.Key, Count = g.Count()});\n",
    "var closedSoFar = thisYearIssues.Where(i => i.State.StringValue == \"closed\");\n",
    "var closedByMonth = closedSoFar.GroupBy(i => new { i.ClosedAt.Value.Year, i.ClosedAt.Value.Month})\n",
    "                .Select(g => new {Date = g.Key, Count = g.Count()});"
   ]
  },
  {
   "cell_type": "code",
   "execution_count": 7,
   "metadata": {},
   "outputs": [
    {
     "data": {
      "text/html": [
       "<div id=\"0eae9c7c-1993-452e-aa52-b1966c74609b\" style=\"width: 900px; height: 500px;\"></div><script type=\"text/javascript\">\r\n",
       "\r\n",
       "var renderPlotly = function() {\r\n",
       "    var xplotRequire = requirejs.config({context:'xplot-2.0.0',paths:{plotly:'https://cdn.plot.ly/plotly-1.49.2.min'}});\r\n",
       "    xplotRequire(['plotly'], function(Plotly) {\r\n",
       "\n",
       "            var data = [{\"type\":\"scatter\",\"x\":[\"2019-09-16T00:00:00\",\"2019-09-15T00:00:00\",\"2019-09-10T00:00:00\",\"2019-09-07T00:00:00\",\"2019-09-06T00:00:00\",\"2019-09-05T00:00:00\",\"2019-09-03T00:00:00\",\"2019-08-29T00:00:00\",\"2019-08-22T00:00:00\",\"2019-08-21T00:00:00\",\"2019-08-19T00:00:00\"],\"y\":[1,1,1,1,1,2,1,1,1,1,1]}];\n",
       "            var layout = {\"title\":\"Issue Open By Day\"};\n",
       "            Plotly.newPlot('0eae9c7c-1993-452e-aa52-b1966c74609b', data, layout);\n",
       "        });\r\n",
       "};\r\n",
       "if ((typeof(requirejs) !==  typeof(Function)) || (typeof(requirejs.config) !== typeof(Function))) { \r\n",
       "    var script = document.createElement(\"script\"); \r\n",
       "    script.setAttribute(\"src\", \"https://cdnjs.cloudflare.com/ajax/libs/require.js/2.3.6/require.min.js\"); \r\n",
       "    script.onload = function(){\r\n",
       "        renderPlotly();\r\n",
       "    };\r\n",
       "    document.getElementsByTagName(\"head\")[0].appendChild(script); \r\n",
       "}\r\n",
       "else {\r\n",
       "    renderPlotly();\r\n",
       "}\r\n",
       "</script>"
      ]
     },
     "metadata": {},
     "output_type": "display_data"
    }
   ],
   "source": [
    "//display(createdThisMonth.Select(i => new {i.CreatedAt, i.Title, State = i.State.StringValue,  i.Number}));\n",
    "var lineChart = Chart.Line(createdThisMonth.GroupBy(i => new DateTime(i.CreatedAt.Year,i.CreatedAt.Month, i.CreatedAt.Day)).Select(g => new Tuple<DateTime,int>(g.Key, g.Count())));\n",
    "lineChart.WithTitle(\"Issue Open By Day\");\n",
    "display(lineChart);"
   ]
  },
  {
   "cell_type": "code",
   "execution_count": 8,
   "metadata": {},
   "outputs": [
    {
     "data": {
      "text/html": [
       "<table><thead><tr><th><i>index</i></th><th>CreatedAt</th><th>Title</th><th>State</th><th>Number</th></tr></thead><tbody><tr><td>0</td><td>2019-09-16 20:09:30Z</td><td>Build on preview9</td><td>open</td><td>449</td></tr><tr><td>1</td><td>2019-09-15 20:26:02Z</td><td>System.ArgumentException: An item with the same key has already been added. Key: .wasm</td><td>open</td><td>445</td></tr><tr><td>2</td><td>2019-09-10 21:09:41Z</td><td>Kernel Info reply doesn&#39;t reflect the kernel language and the editor coloring is not correct</td><td>open</td><td>437</td></tr><tr><td>3</td><td>2019-09-07 09:56:08Z</td><td>Android on screen function is not working, back space can&#39;t be used to edit</td><td>open</td><td>429</td></tr><tr><td>4</td><td>2019-09-06 01:29:27Z</td><td>Creating kernel extensions that are not part of other nuget packages</td><td>open</td><td>428</td></tr><tr><td>5</td><td>2019-09-05 23:22:12Z</td><td>Publish interactive packages</td><td>open</td><td>427</td></tr><tr><td>6</td><td>2019-09-05 12:30:15Z</td><td>WIP create notebook examples</td><td>open</td><td>425</td></tr><tr><td>7</td><td>2019-09-03 16:30:59Z</td><td>After running a %%html / %%markdown / %%javascript, &quot;running&quot; indicator is not reset</td><td>open</td><td>423</td></tr><tr><td>8</td><td>2019-08-29 16:08:30Z</td><td>Try the .NET Kernel </td><td>open</td><td>408</td></tr><tr><td>9</td><td>2019-08-22 20:09:04Z</td><td>Adding extensions to the .NET kernel using nuget packages</td><td>open</td><td>395</td></tr><tr><td>10</td><td>2019-08-21 21:15:50Z</td><td>&quot;args&quot; in Main(string[] args) is null</td><td>open</td><td>390</td></tr><tr><td>11</td><td>2019-08-19 08:05:46Z</td><td>Provide documentation for using wasm &quot;mode&quot;</td><td>open</td><td>382</td></tr></tbody></table>"
      ]
     },
     "metadata": {},
     "output_type": "display_data"
    }
   ],
   "source": [
    "display(openSoFar.Select(i => new {i.CreatedAt, i.Title, State = i.State.StringValue,  i.Number}));"
   ]
  },
  {
   "cell_type": "code",
   "execution_count": 9,
   "metadata": {},
   "outputs": [
    {
     "data": {
      "text/html": [
       "<div id=\"31f4d5fc-95fa-465b-9ad9-ee66af21b347\" style=\"width: 900px; height: 500px;\"></div><script type=\"text/javascript\">\r\n",
       "\r\n",
       "var renderPlotly = function() {\r\n",
       "    var xplotRequire = requirejs.config({context:'xplot-2.0.0',paths:{plotly:'https://cdn.plot.ly/plotly-1.49.2.min'}});\r\n",
       "    xplotRequire(['plotly'], function(Plotly) {\r\n",
       "\n",
       "            var data = [{\"type\":\"scatter\",\"x\":[\"2019-09-01T00:00:00\",\"2019-08-01T00:00:00\"],\"y\":[8,4]}];\n",
       "            var layout = {\"title\":\"Issue Open By Month\"};\n",
       "            Plotly.newPlot('31f4d5fc-95fa-465b-9ad9-ee66af21b347', data, layout);\n",
       "        });\r\n",
       "};\r\n",
       "if ((typeof(requirejs) !==  typeof(Function)) || (typeof(requirejs.config) !== typeof(Function))) { \r\n",
       "    var script = document.createElement(\"script\"); \r\n",
       "    script.setAttribute(\"src\", \"https://cdnjs.cloudflare.com/ajax/libs/require.js/2.3.6/require.min.js\"); \r\n",
       "    script.onload = function(){\r\n",
       "        renderPlotly();\r\n",
       "    };\r\n",
       "    document.getElementsByTagName(\"head\")[0].appendChild(script); \r\n",
       "}\r\n",
       "else {\r\n",
       "    renderPlotly();\r\n",
       "}\r\n",
       "</script>"
      ]
     },
     "metadata": {},
     "output_type": "display_data"
    }
   ],
   "source": [
    "//display(openByMonth);\n",
    "var lineChart = Chart.Line(openByMonth.Select(g => new Tuple<DateTime, int>(new DateTime(g.Date.Year, g.Date.Month, 1),g.Count)));\n",
    "lineChart.WithTitle(\"Issue Open By Month\");\n",
    "display(lineChart);"
   ]
  },
  {
   "cell_type": "code",
   "execution_count": null,
   "metadata": {},
   "outputs": [],
   "source": []
  }
 ],
 "metadata": {
  "kernelspec": {
   "display_name": ".NET (C#)",
   "language": "C#",
   "name": ".net-csharp"
  },
  "language_info": {
   "file_extension": ".cs",
   "mimetype": "text/x-csharp",
   "name": "C#",
   "pygments_lexer": "csharp",
   "version": "7.3"
  }
 },
 "nbformat": 4,
 "nbformat_minor": 2
}
