{
 "cells": [
  {
   "cell_type": "markdown",
   "metadata": {},
   "source": [
    "step 1: If we need to consume a local build of [dotnet/interactive](https://github.com/dotnet/interactive) repo, run the following cell"
   ]
  },
  {
   "cell_type": "code",
   "execution_count": null,
   "metadata": {
    "dotnet_interactive": {
     "language": "pwsh"
    },
    "polyglot_notebook": {
     "kernelName": "pwsh"
    }
   },
   "outputs": [],
   "source": [
    "$dotnetInteractivePath=\"D:\\microsoft\\dotnet\\interactive\"\n",
    "if ($IsWindows) {\n",
    "    Invoke-Expression \"$dotnetInteractivePath\\build-js.cmd\"\n",
    "}else {\n",
    "    Invoke-Expression \"$dotnetInteractivePath\\build-js.sh\"\n",
    "}"
   ]
  },
  {
   "cell_type": "markdown",
   "metadata": {},
   "source": [
    "step 2: Create the NuGet package CSharpProject"
   ]
  },
  {
   "cell_type": "code",
   "execution_count": null,
   "metadata": {
    "dotnet_interactive": {
     "language": "pwsh"
    },
    "polyglot_notebook": {
     "kernelName": "pwsh"
    }
   },
   "outputs": [],
   "source": [
    "Invoke-Expression \"$dotnetInteractivePath\\repack.ps1\""
   ]
  },
  {
   "cell_type": "markdown",
   "metadata": {},
   "source": [
    "step 3: The previous step copied the generated packages into from C:\\temp\\packages\\\n",
    "       Create a new NuGet Feed pointing to this path"
   ]
  },
  {
   "cell_type": "markdown",
   "metadata": {},
   "source": [
    "step 4: Build of the JavaScript code in [trydotnet service](https://github.com/dotnet/try) repo"
   ]
  },
  {
   "cell_type": "code",
   "execution_count": 1,
   "metadata": {
    "dotnet_interactive": {
     "language": "pwsh"
    },
    "polyglot_notebook": {
     "kernelName": "pwsh"
    }
   },
   "outputs": [
    {
     "name": "stdout",
     "output_type": "stream",
     "text": [
      "Building NPM in directory src\\microsoft-trydotnet\r\n"
     ]
    },
    {
     "ename": "Error",
     "evalue": "Command cancelled.",
     "output_type": "error",
     "traceback": [
      "Command cancelled."
     ]
    }
   ],
   "source": [
    "$tryDotnetPath=\"D:\\microsoft\\dotnet\\try\"\n",
    "if ($IsWindows) {\n",
    "    Invoke-Expression \"$tryDotnetPath\\build-js.cmd\"\n",
    "}else {\n",
    "    Invoke-Expression \"$tryDotnetPath\\build-js.sh\"\n",
    "}"
   ]
  },
  {
   "cell_type": "markdown",
   "metadata": {},
   "source": [
    "# step 5: Build of trydotnet service"
   ]
  },
  {
   "cell_type": "code",
   "execution_count": null,
   "metadata": {
    "dotnet_interactive": {
     "language": "pwsh"
    },
    "polyglot_notebook": {
     "kernelName": "pwsh"
    }
   },
   "outputs": [],
   "source": [
    "Invoke-Expression \"$tryDotnet\\build.cmd\""
   ]
  },
  {
   "cell_type": "markdown",
   "metadata": {},
   "source": [
    "step 6: Open try dotnet in Visual Studio and set Microsoft.TryDotNet as a startup project"
   ]
  },
  {
   "cell_type": "markdown",
   "metadata": {},
   "source": [
    "step 7: Run try dotnet (F5)"
   ]
  },
  {
   "cell_type": "markdown",
   "metadata": {},
   "source": [
    "step 8: code D:\\microsoft\\dotnet\\try\\src\\microsoft-learn-mock and then open menu Terminal and start a new terminal\n",
    "     "
   ]
  },
  {
   "cell_type": "markdown",
   "metadata": {},
   "source": [
    "step 9: \n",
    "npm ci\n",
    "npm run buildProd\n",
    "npx http-server"
   ]
  },
  {
   "cell_type": "markdown",
   "metadata": {},
   "source": [
    "http://192.168.1.68:8080/site/DocsHost.html?trydotnetUrl=https%3A%2F%2Flocalhost%3A7061%2Fapi%2Ftrydotnet.min.js&trydotnetOrigin=https%3A%2F%2Flocalhost%3A7061%2F"
   ]
  },
  {
   "cell_type": "markdown",
   "metadata": {},
   "source": [
    "step 9: in vscode, go to menu Terminal and then new Termianlnpx http-server"
   ]
  },
  {
   "cell_type": "code",
   "execution_count": 50,
   "metadata": {
    "dotnet_interactive": {
     "language": "mermaid"
    },
    "polyglot_notebook": {
     "kernelName": "mermaid"
    }
   },
   "outputs": [
    {
     "data": {
      "text/html": [
       "<div class=\"mermaidMarkdownContainer\" style=\"background-color:white\">\r\n",
       "<link rel=\"stylesheet\" href=\"https://cdnjs.cloudflare.com/ajax/libs/font-awesome/6.2.0/css/all.min.css\">\r\n",
       "<div id=\"0a68b4f45dd4439e9af151ba8690b8cb\"></div>\r\n",
       "<script type=\"module\">\r\n",
       "\r\n",
       "            import mermaid from 'https://cdn.jsdelivr.net/npm/mermaid@10.1.0/dist/mermaid.esm.min.mjs';\r\n",
       "            let renderTarget = document.getElementById('0a68b4f45dd4439e9af151ba8690b8cb');\r\n",
       "            try {\r\n",
       "                const {svg, bindFunctions} = await mermaid.mermaidAPI.render( \r\n",
       "                    'mermaid_0a68b4f45dd4439e9af151ba8690b8cb', \r\n",
       "                    `sequenceDiagram\r\n",
       "    box Browser\r\n",
       "    participant U as user browser\r\n",
       "    participant I as trydotnet.microsoft.com iframe\r\n",
       "    end\r\n",
       "    box Server\r\n",
       "    participant A as learn.microsoft.com\r\n",
       "    participant B as trydotnet.microsoft.com\r\n",
       "    participant C as CSharpProject:Backend\r\n",
       "    end\r\n",
       "    U->>A: request to open the page\r\n",
       "    A->>U: page containing iframe, trydotnet.js links\r\n",
       "    U->>A: request trydotnet.js\r\n",
       "    A-->>U: trydotnet.js\r\n",
       "    I->>B: request trydotnet.microsoft.com/editor\r\n",
       "    B-->>I: monaco editor\r\n",
       "    U->>B: GET /editor: iFrame load c sharp text editor\r\n",
       "\r\n",
       "\r\n",
       "`);\r\n",
       "                renderTarget.innerHTML = svg;\r\n",
       "                bindFunctions?.(renderTarget);\r\n",
       "            }\r\n",
       "            catch (error) {\r\n",
       "                console.log(error);\r\n",
       "            }\r\n",
       "</script>\r\n",
       "</div>\r\n"
      ]
     },
     "metadata": {},
     "output_type": "display_data"
    }
   ],
   "source": [
    "sequenceDiagram\n",
    "    box Browser\n",
    "    participant U as user browser\n",
    "    participant I as trydotnet.microsoft.com iframe\n",
    "    end\n",
    "    box Server\n",
    "    participant A as learn.microsoft.com\n",
    "    participant B as trydotnet.microsoft.com\n",
    "    participant C as CSharpProject:Backend\n",
    "    end\n",
    "    U->>A: request to open the page\n",
    "    A->>U: page containing iframe, trydotnet.js links\n",
    "    U->>A: request trydotnet.js\n",
    "    A-->>U: trydotnet.js\n",
    "    I->>B: request trydotnet.microsoft.com/editor\n",
    "    B-->>I: monaco editor\n",
    "    U->>B: GET /editor: iFrame load c sharp text editor\n",
    "\n",
    "\n"
   ]
  }
 ],
 "metadata": {
  "kernelspec": {
   "display_name": ".NET (C#)",
   "language": "C#",
   "name": ".net-csharp"
  },
  "language_info": {
   "name": "polyglot-notebook"
  },
  "polyglot_notebook": {
   "kernelInfo": {
    "defaultKernelName": "csharp",
    "items": [
     {
      "aliases": [],
      "languageName": "csharp",
      "name": "csharp"
     }
    ]
   }
  }
 },
 "nbformat": 4,
 "nbformat_minor": 2
}
