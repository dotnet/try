{
 "cells": [
  {
   "cell_type": "markdown",
   "metadata": {},
   "source": [
    "## step 1: Set paths for dotnet-interactive and try projects"
   ]
  },
  {
   "cell_type": "code",
   "execution_count": 1,
   "metadata": {
    "dotnet_interactive": {
     "language": "pwsh"
    },
    "polyglot_notebook": {
     "kernelName": "pwsh"
    }
   },
   "outputs": [],
   "source": [
    "$dotnetInteractivePath=\"D:\\microsoft\\dotnet\\interactive\"\n",
    "$tryDotnetPath=\"D:\\microsoft\\dotnet\\try\"\n",
    "$monacoEditorProject=\"$tryDotnetPath\\src\\Microsoft.TryDotNet\"\n",
    "$mockMsLearnServer=\"$tryDotnetPath\\src\\microsoft-learn-mock\""
   ]
  },
  {
   "cell_type": "markdown",
   "metadata": {},
   "source": [
    "## step 2: Build Javascript projects"
   ]
  },
  {
   "cell_type": "code",
   "execution_count": null,
   "metadata": {
    "dotnet_interactive": {
     "language": "pwsh"
    },
    "polyglot_notebook": {
     "kernelName": "pwsh"
    }
   },
   "outputs": [],
   "source": [
    "Set-Location -Path $dotnetInteractivePath\n",
    "\n",
    "if ($IsWindows) {\n",
    "    Invoke-Expression \"$dotnetInteractivePath\\build-js.cmd\"\n",
    "}else {\n",
    "    Invoke-Expression \"$dotnetInteractivePath\\build-js.sh\"\n",
    "}"
   ]
  },
  {
   "cell_type": "markdown",
   "metadata": {},
   "source": [
    "## step 3: Create the NuGet package CSharpProject\n",
    "The following script will copy the generated packages into from C:\\temp\\packages\\"
   ]
  },
  {
   "cell_type": "code",
   "execution_count": null,
   "metadata": {
    "dotnet_interactive": {
     "language": "pwsh"
    },
    "polyglot_notebook": {
     "kernelName": "pwsh"
    }
   },
   "outputs": [],
   "source": [
    "Set-Location -Path $dotnetInteractivePath\n",
    "\n",
    "Invoke-Expression \".\\repack.ps1\""
   ]
  },
  {
   "cell_type": "markdown",
   "metadata": {},
   "source": [
    "## step 4: Create a new NuGet Feed in try dotnet pointing to this path"
   ]
  },
  {
   "cell_type": "code",
   "execution_count": 33,
   "metadata": {
    "dotnet_interactive": {
     "language": "pwsh"
    },
    "polyglot_notebook": {
     "kernelName": "pwsh"
    }
   },
   "outputs": [],
   "source": [
    "# Navigate to the directory containing the NuGet.config\n",
    "Set-Location -Path $tryDotnetPath\n",
    "\n",
    "# Add a new package source\n",
    "$nugetConfigPath = Join-Path $tryDotnetPath 'NuGet.config'\n",
    "[xml]$nugetConfig = Get-Content $nugetConfigPath\n",
    "\n",
    "$newPackageSource = $nugetConfig.CreateElement(\"add\")\n",
    "$newPackageSource.SetAttribute(\"key\", \"LocalPackages\")\n",
    "$newPackageSource.SetAttribute(\"value\", \"C:\\temp\\packages\")\n",
    "\n",
    "$packageSourcesNode = $nugetConfig.SelectSingleNode('configuration/packageSources')\n",
    "$packageSourcesNode.AppendChild($newPackageSource) > $null\n",
    "\n",
    "$nugetConfig.Save($nugetConfigPath)"
   ]
  },
  {
   "cell_type": "markdown",
   "metadata": {},
   "source": [
    "## 5: Update NuGet package Microsoft.DotNet.Interactive.CSharpProject to use the one created in previous steps\n"
   ]
  },
  {
   "cell_type": "code",
   "execution_count": 4,
   "metadata": {
    "dotnet_interactive": {
     "language": "pwsh"
    },
    "polyglot_notebook": {
     "kernelName": "pwsh"
    }
   },
   "outputs": [],
   "source": [
    "# Define the path to the Directory.Packages.props file\n",
    "$packagesPropsPath = Join-Path $tryDotnetPath \"Directory.Packages.props\"\n",
    "\n",
    "# Load the XML content of the Directory.Packages.props file\n",
    "[xml]$packagesProps = Get-Content $packagesPropsPath\n",
    "\n",
    "# Define the namespace to handle the default namespace in the document\n",
    "$namespaceManager = New-Object System.Xml.XmlNamespaceManager($packagesProps.NameTable)\n",
    "$namespaceManager.AddNamespace(\"msb\", \"http://schemas.microsoft.com/developer/msbuild/2003\")\n",
    "\n",
    "# Ensure that the ItemGroup element exists\n",
    "$itemGroup = $packagesProps.SelectSingleNode(\"msb:Project/msb:ItemGroup\", $namespaceManager)\n",
    "if ($itemGroup -eq $null) {\n",
    "    $itemGroup = $packagesProps.CreateElement(\"ItemGroup\", $namespaceManager.LookupNamespace(\"msb\"))\n",
    "    $packagesProps.DocumentElement.AppendChild($itemGroup)\n",
    "}\n",
    "\n",
    "# Check if the PackageVersion element for the package already exists\n",
    "$packageRef = $itemGroup.SelectSingleNode(\"msb:PackageVersion[@Include='Microsoft.DotNet.Interactive.CSharpProject']\", $namespaceManager)\n",
    "\n",
    "if ($packageRef -eq $null) {\n",
    "    # If the package reference doesn't exist, create it\n",
    "    $newPackageRef = $packagesProps.CreateElement(\"PackageVersion\", $namespaceManager.LookupNamespace(\"msb\"))\n",
    "    $newPackageRef.SetAttribute(\"Include\", \"Microsoft.DotNet.Interactive.CSharpProject\")\n",
    "    $newPackageRef.SetAttribute(\"Version\", \"2.0.0\")\n",
    "    $itemGroup.AppendChild($newPackageRef)\n",
    "} else {\n",
    "    # If it exists, just update the version\n",
    "    $packageRef.SetAttribute(\"Version\", \"2.0.0\")\n",
    "}\n",
    "\n",
    "# Save the changes back to the Directory.Packages.props file\n",
    "$packagesProps.Save($packagesPropsPath)\n"
   ]
  },
  {
   "cell_type": "markdown",
   "metadata": {},
   "source": [
    "## 6: Build trydotnet.js which handles events from Monaco Editor"
   ]
  },
  {
   "cell_type": "code",
   "execution_count": null,
   "metadata": {
    "dotnet_interactive": {
     "language": "pwsh"
    },
    "polyglot_notebook": {
     "kernelName": "pwsh"
    }
   },
   "outputs": [],
   "source": [
    "Set-Location -Path $tryDotnetPath\n",
    "\n",
    "if ($IsWindows) {\n",
    "    Invoke-Expression \"$tryDotnetPath\\build-js.cmd\"\n",
    "}else {\n",
    "    Invoke-Expression \"$tryDotnetPath\\build-js.sh\"\n",
    "}"
   ]
  },
  {
   "cell_type": "markdown",
   "metadata": {},
   "source": [
    "## step 7: Build of trydotnet service"
   ]
  },
  {
   "cell_type": "code",
   "execution_count": null,
   "metadata": {
    "dotnet_interactive": {
     "language": "pwsh"
    },
    "polyglot_notebook": {
     "kernelName": "pwsh"
    }
   },
   "outputs": [],
   "source": [
    "Set-Location -Path $tryDotnetPath\n",
    "\n",
    "Invoke-Expression \"$tryDotnetPath\\build.cmd\""
   ]
  },
  {
   "cell_type": "markdown",
   "metadata": {},
   "source": [
    "## step 8: Run the Mocaco Editor"
   ]
  },
  {
   "cell_type": "code",
   "execution_count": null,
   "metadata": {
    "dotnet_interactive": {
     "language": "pwsh"
    },
    "polyglot_notebook": {
     "kernelName": "pwsh"
    }
   },
   "outputs": [],
   "source": [
    "Set-Location -Path $monacoEditorProject\n",
    "\n",
    "## This will launch the editor at https://localhost:7061/editor\n",
    "dotnet run --no-build --project \"Microsoft.TryDotNet.csproj\" --configuration Release --launch-profile \"Microsoft.TryDotNet\""
   ]
  },
  {
   "cell_type": "markdown",
   "metadata": {},
   "source": [
    "## step 9: Verify Monaco Editor is running"
   ]
  },
  {
   "cell_type": "code",
   "execution_count": null,
   "metadata": {
    "dotnet_interactive": {
     "language": "pwsh"
    },
    "polyglot_notebook": {
     "kernelName": "pwsh"
    }
   },
   "outputs": [],
   "source": [
    "# Open the default web browser at the given URL\n",
    "Start-Process \"https://localhost:7061/editor\""
   ]
  },
  {
   "cell_type": "markdown",
   "metadata": {},
   "source": [
    "## step 10: Build the mock project that represents MS Learn server"
   ]
  },
  {
   "cell_type": "code",
   "execution_count": null,
   "metadata": {
    "dotnet_interactive": {
     "language": "pwsh"
    },
    "polyglot_notebook": {
     "kernelName": "pwsh"
    }
   },
   "outputs": [],
   "source": [
    "Set-Location -Path $mockMsLearnServer\n",
    "\n",
    "npm ci\n",
    "\n",
    "npm run buildProd"
   ]
  },
  {
   "cell_type": "markdown",
   "metadata": {},
   "source": [
    "## step 11: Launch the mock MS Learn server"
   ]
  },
  {
   "cell_type": "code",
   "execution_count": null,
   "metadata": {
    "dotnet_interactive": {
     "language": "pwsh"
    },
    "polyglot_notebook": {
     "kernelName": "pwsh"
    }
   },
   "outputs": [],
   "source": [
    "Set-Location -Path $mockMsLearnServer\n",
    "\n",
    "npx http-server -p 7063"
   ]
  },
  {
   "cell_type": "markdown",
   "metadata": {},
   "source": [
    "## step 12: Open the mock MS Learn webpage with the editor"
   ]
  },
  {
   "cell_type": "code",
   "execution_count": null,
   "metadata": {
    "dotnet_interactive": {
     "language": "pwsh"
    },
    "polyglot_notebook": {
     "kernelName": "pwsh"
    }
   },
   "outputs": [],
   "source": [
    "Start-Process \"http://127.0.0.1:7063/site/DocsHost.html?trydotnetUrl=https://localhost:7061/api/trydotnet.min.js&trydotnetOrigin=https://localhost:7061/\""
   ]
  },
  {
   "attachments": {
    "image.png": {
     "image/png": "[encoded data removed]"
    }
   },
   "cell_type": "markdown",
   "metadata": {},
   "source": [
    "![image.png](attachment:image.png)"
   ]
  },
  {
   "cell_type": "markdown",
   "metadata": {},
   "source": [
    "## Try .NET / Microsoft Learn flow diagram\n",
    "\n",
    "The diagram available through the link below provides a comprehensive of the interaction between Try .NET service (trydotnet.microsoft.com) and a host page (learn.microsoft.com).\n",
    "\n",
    "https://github.com/dotnet/interactive/tree/main/src/Microsoft.DotNet.Interactive.CSharpProject#try-net--microsoft-learn-flow\n",
    "\n",
    "The core of Try .NET is powered by the `CSharpProjectKernel`, which serves as the backend for .NET Interactive."
   ]
  }
 ],
 "metadata": {
  "kernelspec": {
   "display_name": ".NET (C#)",
   "language": "C#",
   "name": ".net-csharp"
  },
  "language_info": {
   "name": "polyglot-notebook"
  },
  "polyglot_notebook": {
   "kernelInfo": {
    "defaultKernelName": "csharp",
    "items": [
     {
      "aliases": [],
      "languageName": "csharp",
      "name": "csharp"
     }
    ]
   }
  }
 },
 "nbformat": 4,
 "nbformat_minor": 2
}
