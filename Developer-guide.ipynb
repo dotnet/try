{
 "cells": [
  {
   "cell_type": "markdown",
   "metadata": {},
   "source": [
    "## step 1: If we need to consume a local build of [dotnet/interactive](https://github.com/dotnet/interactive) repo, run the following cell"
   ]
  },
  {
   "cell_type": "code",
   "execution_count": null,
   "metadata": {
    "dotnet_interactive": {
     "language": "pwsh"
    },
    "polyglot_notebook": {
     "kernelName": "pwsh"
    }
   },
   "outputs": [],
   "source": [
    "$dotnetInteractivePath=\"D:\\microsoft\\dotnet\\interactive\"\n",
    "if ($IsWindows) {\n",
    "    Invoke-Expression \"$dotnetInteractivePath\\build-js.cmd\"\n",
    "}else {\n",
    "    Invoke-Expression \"$dotnetInteractivePath\\build-js.sh\"\n",
    "}"
   ]
  },
  {
   "cell_type": "markdown",
   "metadata": {},
   "source": [
    "## step 2: Create the NuGet package CSharpProject\n",
    "The following script will copy the generated packages into from C:\\temp\\packages\\"
   ]
  },
  {
   "cell_type": "code",
   "execution_count": null,
   "metadata": {
    "dotnet_interactive": {
     "language": "pwsh"
    },
    "polyglot_notebook": {
     "kernelName": "pwsh"
    }
   },
   "outputs": [],
   "source": [
    "Invoke-Expression \"$dotnetInteractivePath\\repack.ps1\""
   ]
  },
  {
   "cell_type": "markdown",
   "metadata": {},
   "source": [
    "## step 3: Create a new NuGet Feed in try dotnet pointing to this path"
   ]
  },
  {
   "cell_type": "markdown",
   "metadata": {},
   "source": [
    "## step 4: Build of the JavaScript code in [trydotnet service](https://github.com/dotnet/try) repo"
   ]
  },
  {
   "cell_type": "code",
   "execution_count": 1,
   "metadata": {
    "dotnet_interactive": {
     "language": "pwsh"
    },
    "polyglot_notebook": {
     "kernelName": "pwsh"
    }
   },
   "outputs": [
    {
     "name": "stdout",
     "output_type": "stream",
     "text": [
      "Building NPM in directory src\\microsoft-trydotnet\r\n"
     ]
    },
    {
     "ename": "Error",
     "evalue": "Command cancelled.",
     "output_type": "error",
     "traceback": [
      "Command cancelled."
     ]
    }
   ],
   "source": [
    "$tryDotnetPath=\"D:\\microsoft\\dotnet\\try\"\n",
    "if ($IsWindows) {\n",
    "    Invoke-Expression \"$tryDotnetPath\\build-js.cmd\"\n",
    "}else {\n",
    "    Invoke-Expression \"$tryDotnetPath\\build-js.sh\"\n",
    "}"
   ]
  },
  {
   "cell_type": "markdown",
   "metadata": {},
   "source": [
    "## step 5: Build of trydotnet service"
   ]
  },
  {
   "cell_type": "code",
   "execution_count": null,
   "metadata": {
    "dotnet_interactive": {
     "language": "pwsh"
    },
    "polyglot_notebook": {
     "kernelName": "pwsh"
    }
   },
   "outputs": [],
   "source": [
    "Invoke-Expression \"$tryDotnetPath\\build.cmd\""
   ]
  },
  {
   "cell_type": "markdown",
   "metadata": {},
   "source": [
    "## step 6: Open try dotnet in Visual Studio and set Microsoft.TryDotNet as a startup project"
   ]
  },
  {
   "cell_type": "markdown",
   "metadata": {},
   "source": [
    "## step 7: Run try dotnet (F5)"
   ]
  },
  {
   "cell_type": "markdown",
   "metadata": {},
   "source": [
    "## step 8: code src\\microsoft-learn-mock and then open menu Terminal and start a new terminal"
   ]
  },
  {
   "cell_type": "markdown",
   "metadata": {},
   "source": [
    "## step 9:\n",
    "\n",
    "npm ci\n",
    "\n",
    "npm run buildProd\n",
    "\n",
    "npx http-server"
   ]
  },
  {
   "cell_type": "markdown",
   "metadata": {},
   "source": [
    "http://192.168.1.68:8080/site/DocsHost.html?trydotnetUrl=https://localhost:7061/api/trydotnet.min.js&trydotnetOrigin=https://localhost:7061/\n",
    "\n",
    "converted to url:\n",
    "\n",
    "http://192.168.1.68:8080/site/DocsHost.html?trydotnetUrl=https%3A%2F%2Flocalhost%3A7061%2Fapi%2Ftrydotnet.min.js&trydotnetOrigin=https%3A%2F%2Flocalhost%3A7061%2F"
   ]
  },
  {
   "cell_type": "markdown",
   "metadata": {},
   "source": [
    "## Try .NET / Microsoft Learn flow diagram\n",
    "\n",
    "The diagram available through the link below provides a comprehensive of the interaction between Try .NET service (trydotnet.microsoft.com) and a host page (learn.microsoft.com).\n",
    "\n",
    "https://github.com/dotnet/interactive/tree/main/src/Microsoft.DotNet.Interactive.CSharpProject#try-net--microsoft-learn-flow\n",
    "\n",
    "The core of Try .NET is powered by the `CSharpProjectKernel`, which serves as the backend for .NET Interactive."
   ]
  },
  {
   "cell_type": "markdown",
   "metadata": {},
   "source": []
  }
 ],
 "metadata": {
  "kernelspec": {
   "display_name": ".NET (C#)",
   "language": "C#",
   "name": ".net-csharp"
  },
  "language_info": {
   "name": "polyglot-notebook"
  },
  "polyglot_notebook": {
   "kernelInfo": {
    "defaultKernelName": "csharp",
    "items": [
     {
      "aliases": [],
      "languageName": "csharp",
      "name": "csharp"
     }
    ]
   }
  }
 },
 "nbformat": 4,
 "nbformat_minor": 2
}
