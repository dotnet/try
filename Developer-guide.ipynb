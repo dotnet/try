{
 "cells": [
  {
   "cell_type": "markdown",
   "metadata": {},
   "source": [
    "# Prerequisites\n",
    "\n",
    "In order to build Try .NET, you'll need the following installed:\n",
    "\n",
    "* The [.NET 8 SDK](https://learn.microsoft.com/en-us/dotnet/core/install/).\n",
    "* The LTS version of [Node.js](https://nodejs.org/en/download)."
   ]
  },
  {
   "cell_type": "markdown",
   "metadata": {},
   "source": [
    "# 1: [Optional] Build .NET Interactive\n",
    "\n",
    "The core functionality in Try .NET is the .NET Interactive repo, which contains the `CSharpProjectKernel` that powers Try .NET's compilation and language services. \n",
    "\n",
    "* If you're making changes in that layer, then you'll need to build the .NET Interactive packages locally. \n",
    "\n",
    "* If not, skip to step 2.1."
   ]
  },
  {
   "cell_type": "markdown",
   "metadata": {},
   "source": [
    "## 1.1: Clone, build, and pack .NET Interactive\n",
    "\n",
    "First, make sure you have the [.NET Interactive repo](https://github.com/dotnet/interactive) forked and cloned. Set the path to the repo root in the following cell. \n"
   ]
  },
  {
   "cell_type": "code",
   "execution_count": null,
   "metadata": {
    "dotnet_interactive": {
     "language": "pwsh"
    },
    "polyglot_notebook": {
     "kernelName": "pwsh"
    }
   },
   "outputs": [],
   "source": [
    "$dotnetInteractiveRepoPath = Read-Host -Prompt \"Enter the path to the root of your dotnet/interactive clone\"\n",
    "$dotnetInteractiveRepoPath"
   ]
  },
  {
   "cell_type": "markdown",
   "metadata": {},
   "source": [
    "Follow the instructions to build .NET Interactive in the [developer guide](https://github.com/dotnet/interactive/blob/main/DEVELOPER-GUIDE.md). \n",
    "\n",
    "You don't need to set up a local build of the Polyglot Notebooks extension to work on Try .NET.\n",
    "\n",
    "The following script will build the project and copy the generated packages to C:\\temp\\packages\\ which will be be used a NuGet package source when building Try .NET."
   ]
  },
  {
   "cell_type": "code",
   "execution_count": null,
   "metadata": {
    "dotnet_interactive": {
     "language": "pwsh"
    },
    "polyglot_notebook": {
     "kernelName": "pwsh"
    }
   },
   "outputs": [],
   "source": [
    "Invoke-Expression \"$dotnetInteractiveRepoPath\\repack.ps1\""
   ]
  },
  {
   "cell_type": "markdown",
   "metadata": {},
   "source": [
    "## 1.2: Update Microsoft.DotNet.Interactive.CSharpProject version used by Try .NET\n",
    "\n",
    "This step only needs to be done if you're changing code from the .NET Interactive repo.\n",
    "\n",
    "This step modifies NuGet.config to reference the local package source where .NET Interactive packages build in Step 1.* should be found."
   ]
  },
  {
   "cell_type": "code",
   "execution_count": null,
   "metadata": {
    "dotnet_interactive": {
     "language": "pwsh"
    },
    "polyglot_notebook": {
     "kernelName": "pwsh"
    }
   },
   "outputs": [],
   "source": [
    "$tryDotnetRepoPath = Get-Location\n",
    "\n",
    "$nugetConfigPath = Join-Path $tryDotnetRepoPath 'NuGet.config'\n",
    "[xml]$nugetConfig = Get-Content $nugetConfigPath\n",
    "\n",
    "$newPackageSource = $nugetConfig.CreateElement(\"add\")\n",
    "$newPackageSource.SetAttribute(\"key\", \"LocalDevPackages\")\n",
    "$newPackageSource.SetAttribute(\"value\", \"C:\\temp\\packages\")\n",
    "\n",
    "$packageSourcesNode = $nugetConfig.SelectSingleNode('configuration/packageSources')\n",
    "$packageSourcesNode.AppendChild($newPackageSource) > $null\n",
    "\n",
    "$packageMappingNode = $nugetConfig.CreateElement(\"packageSource\")\n",
    "$packageMappingNode.SetAttribute(\"key\", \"LocalDevPackages\")\n",
    "$packageNode = $nugetConfig.CreateElement(\"package\")\n",
    "$packageNode.SetAttribute(\"pattern\", \"*\")\n",
    "$packageMappingNode.AppendChild($packageNode) > $null\n",
    "\n",
    "$packageSourcesNode = $nugetConfig.SelectSingleNode('configuration/packageSourceMapping')\n",
    "$packageSourcesNode.AppendChild($packageMappingNode) > $null\n",
    "\n",
    "$nugetConfig.Save($nugetConfigPath)"
   ]
  },
  {
   "cell_type": "markdown",
   "metadata": {},
   "source": [
    "Next, update the referenced version of the package."
   ]
  },
  {
   "cell_type": "code",
   "execution_count": null,
   "metadata": {
    "dotnet_interactive": {
     "language": "pwsh"
    },
    "polyglot_notebook": {
     "kernelName": "pwsh"
    }
   },
   "outputs": [],
   "source": [
    "# Define the path to the Directory.Packages.props file\n",
    "$packagesPropsPath = \"$tryDotnetRepoPath\\Directory.Packages.props\"\n",
    "\n",
    "# Load the XML content of the Directory.Packages.props file\n",
    "[xml]$packagesProps = Get-Content $packagesPropsPath\n",
    "\n",
    "# Define the namespace to handle the default namespace in the document\n",
    "$namespaceManager = New-Object System.Xml.XmlNamespaceManager($packagesProps.NameTable)\n",
    "$namespaceManager.AddNamespace(\"msb\", \"http://schemas.microsoft.com/developer/msbuild/2003\")\n",
    "\n",
    "# Ensure that the ItemGroup element exists\n",
    "$itemGroup = $packagesProps.SelectSingleNode(\"msb:Project/msb:ItemGroup\", $namespaceManager)\n",
    "if ($itemGroup -eq $null) {\n",
    "    $itemGroup = $packagesProps.CreateElement(\"ItemGroup\", $namespaceManager.LookupNamespace(\"msb\"))\n",
    "    $packagesProps.DocumentElement.AppendChild($itemGroup)\n",
    "}\n",
    "\n",
    "# Check if the PackageVersion element for the package already exists\n",
    "$packageRef = $itemGroup.SelectSingleNode(\"msb:PackageVersion[@Include='Microsoft.DotNet.Interactive.CSharpProject']\", $namespaceManager)\n",
    "\n",
    "if ($packageRef -eq $null) {\n",
    "    # If the package reference doesn't exist, create it\n",
    "    $newPackageRef = $packagesProps.CreateElement(\"PackageVersion\", $namespaceManager.LookupNamespace(\"msb\"))\n",
    "    $newPackageRef.SetAttribute(\"Include\", \"Microsoft.DotNet.Interactive.CSharpProject\")\n",
    "    $newPackageRef.SetAttribute(\"Version\", \"2.0.0\")\n",
    "    $itemGroup.AppendChild($newPackageRef)\n",
    "} else {\n",
    "    # If it exists, just update the version\n",
    "    $packageRef.SetAttribute(\"Version\", \"2.0.0\")\n",
    "}\n",
    "\n",
    "# Save the changes back to the Directory.Packages.props file\n",
    "$packagesProps.Save($packagesPropsPath)\n"
   ]
  },
  {
   "cell_type": "markdown",
   "metadata": {},
   "source": [
    "## 2.1: Build Try .NET"
   ]
  },
  {
   "cell_type": "code",
   "execution_count": null,
   "metadata": {
    "dotnet_interactive": {
     "language": "pwsh"
    },
    "polyglot_notebook": {
     "kernelName": "pwsh"
    }
   },
   "outputs": [],
   "source": [
    "$tryDotnetRepoPath = Get-Location\n",
    "\n",
    "$tryDotNetProjectFilePath=\"$tryDotnetRepoPath\\src\\Microsoft.TryDotNet\\Microsoft.TryDotNet.csproj\"\n",
    "$mockMsLearnServerPath=\"$tryDotnetRepoPath\\src\\microsoft-learn-mock\""
   ]
  },
  {
   "cell_type": "markdown",
   "metadata": {},
   "source": [
    "First, build the client pieces, which includes the `trydotnet.js` library."
   ]
  },
  {
   "cell_type": "code",
   "execution_count": null,
   "metadata": {
    "dotnet_interactive": {
     "language": "pwsh"
    },
    "polyglot_notebook": {
     "kernelName": "pwsh"
    }
   },
   "outputs": [],
   "source": [
    "if ($IsWindows) {\n",
    "    Invoke-Expression \"$tryDotnetRepoPath\\build-js.cmd\"\n",
    "} else {\n",
    "    Invoke-Expression \"$tryDotnetRepoPath/build-js.sh\"\n",
    "}"
   ]
  },
  {
   "cell_type": "markdown",
   "metadata": {},
   "source": [
    "Next, build the Try .NET service."
   ]
  },
  {
   "cell_type": "code",
   "execution_count": null,
   "metadata": {
    "dotnet_interactive": {
     "language": "pwsh"
    },
    "polyglot_notebook": {
     "kernelName": "pwsh"
    }
   },
   "outputs": [],
   "source": [
    "dotnet build -c Debug $tryDotnetRepoPath"
   ]
  },
  {
   "cell_type": "markdown",
   "metadata": {},
   "source": [
    "## 2.2: Start the Try .NET service\n",
    "\n",
    "This launches the Try .NET web service. It will launch in a separate terminal window. Closing that window will stop the server."
   ]
  },
  {
   "cell_type": "code",
   "execution_count": null,
   "metadata": {
    "dotnet_interactive": {
     "language": "pwsh"
    },
    "polyglot_notebook": {
     "kernelName": "pwsh"
    }
   },
   "outputs": [],
   "source": [
    "Start-Process pwsh -ArgumentList \"-c dotnet run --no-build --project ${tryDotNetProjectFilePath} --launch-profile TryDotNet-Development\""
   ]
  },
  {
   "cell_type": "markdown",
   "metadata": {},
   "source": [
    "## 2.3: Verify Try .NET by running Peaky tests"
   ]
  },
  {
   "cell_type": "code",
   "execution_count": null,
   "metadata": {
    "dotnet_interactive": {
     "language": "csharp"
    },
    "polyglot_notebook": {
     "kernelName": "csharp"
    }
   },
   "outputs": [],
   "source": [
    "#r \"nuget:Peaky.Client\"\n",
    "\n",
    "using Peaky.Client;\n",
    "using System.Net.Http;\n",
    "\n",
    "var peakyClient = new PeakyClient(new Uri(\"https://localhost:7061/tests\"));\n",
    "\n",
    "var tests = (await peakyClient.GetTestsAsync()).Where(t => t.Tags.Any(tag => tag == \"self\"));\n",
    "\n",
    "foreach (var test in tests)\n",
    "{\n",
    "    var result = await test.GetResultAsync();\n",
    "    result.Display();\n",
    "}"
   ]
  },
  {
   "cell_type": "markdown",
   "metadata": {},
   "source": [
    "## 2.4: [One time only] Build MS Learn mock server"
   ]
  },
  {
   "cell_type": "code",
   "execution_count": null,
   "metadata": {
    "dotnet_interactive": {
     "language": "pwsh"
    },
    "polyglot_notebook": {
     "kernelName": "pwsh"
    }
   },
   "outputs": [],
   "source": [
    "Set-Location -Path $mockMsLearnServerPath\n",
    "npm ci\n",
    "npm run buildProd\n",
    "Set-Location $tryDotnetRepoPath"
   ]
  },
  {
   "cell_type": "markdown",
   "metadata": {},
   "source": [
    "## 2.5: Launch the MS Learn mock server\n",
    "\n",
    "This site hosts the Try .NET IFRAME and provides controls so you can see if things are working."
   ]
  },
  {
   "cell_type": "code",
   "execution_count": null,
   "metadata": {
    "dotnet_interactive": {
     "language": "pwsh"
    },
    "polyglot_notebook": {
     "kernelName": "pwsh"
    }
   },
   "outputs": [],
   "source": [
    "Set-Location -Path $mockMsLearnServerPath\n",
    "\n",
    "Start-Process pwsh -ArgumentList \"-c npx http-server -p 7063\""
   ]
  },
  {
   "cell_type": "markdown",
   "metadata": {},
   "source": [
    "## 2.6: Open the MS Learn mock site and interact with Try .NET"
   ]
  },
  {
   "cell_type": "code",
   "execution_count": null,
   "metadata": {
    "dotnet_interactive": {
     "language": "pwsh"
    },
    "polyglot_notebook": {
     "kernelName": "pwsh"
    }
   },
   "outputs": [],
   "source": [
    "Start-Process \"http://127.0.0.1:7063/site/DocsHost.html?trydotnetUrl=https://localhost:7061/api/trydotnet.min.js&trydotnetOrigin=https://localhost:7061/\""
   ]
  },
  {
   "cell_type": "markdown",
   "metadata": {},
   "source": [
    "## Try .NET / Microsoft Learn flow diagram\n",
    "\n",
    "The diagram available through the link below provides a comprehensive view of the interaction between the Try .NET service and a host page (e.g., learn.microsoft.com).\n",
    "\n",
    "https://github.com/dotnet/interactive/tree/main/src/Microsoft.DotNet.Interactive.CSharpProject#try-net--microsoft-learn-flow\n",
    "\n",
    "The core of Try .NET is powered by the `CSharpProjectKernel`, which does most of the work powering the Try .NET service."
   ]
  }
 ],
 "metadata": {
  "kernelspec": {
   "display_name": ".NET (C#)",
   "language": "C#",
   "name": ".net-csharp"
  },
  "language_info": {
   "name": "polyglot-notebook"
  },
  "polyglot_notebook": {
   "kernelInfo": {
    "defaultKernelName": "csharp",
    "items": [
     {
      "aliases": [],
      "languageName": "csharp",
      "name": "csharp"
     }
    ]
   }
  }
 },
 "nbformat": 4,
 "nbformat_minor": 2
}
